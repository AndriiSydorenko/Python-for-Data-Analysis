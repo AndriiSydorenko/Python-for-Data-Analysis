{
  "cells": [
    {
      "cell_type": "markdown",
      "id": "aed503f1",
      "metadata": {
        "ExecuteTime": {
          "end_time": "2023-07-27T20:14:32.871852Z",
          "start_time": "2023-07-27T20:14:31.036121Z"
        },
        "id": "aed503f1"
      },
      "source": [
        "У завданнях 1-4. Вам наданий простий код на Python, який не відповідає вказівкам PEP8. Ваше завдання — відредагувати код так, аби він відповідав PEP8. Напишіть після редагуванню коду, дотримання яких правил з pep8 ви досягли в відредагованій версі, наприклад\n",
        "```\n",
        "- додала пробіли навколо бінарного оператора\n",
        "- додала два порожні рядки між визначеннями функцій\n",
        "і тд\n",
        "```\n",
        "Також можна зазанчити використані правила коментарями по коду, а не окремим повідомленням.\n",
        "\n",
        "Відредагований код має виконувати весь той самий функціонал, але бути написаний відповідно до вимог до гарного коду на Python! Не забудьте запустити відредагований код, він має бути робочим."
      ]
    },
    {
      "cell_type": "markdown",
      "id": "e7fea147",
      "metadata": {
        "id": "e7fea147"
      },
      "source": [
        "Завдання 1."
      ]
    },
    {
      "cell_type": "code",
      "execution_count": 1,
      "id": "f63d84d7",
      "metadata": {
        "ExecuteTime": {
          "end_time": "2023-07-29T17:02:37.075783Z",
          "start_time": "2023-07-29T17:02:37.035259Z"
        },
        "id": "f63d84d7",
        "colab": {
          "base_uri": "https://localhost:8080/",
          "height": 69
        },
        "outputId": "8f5db139-380f-4761-fc85-17242e80af0f"
      },
      "outputs": [
        {
          "output_type": "stream",
          "name": "stdout",
          "text": [
            "Hello, John\n"
          ]
        },
        {
          "output_type": "display_data",
          "data": {
            "text/plain": [
              "None"
            ]
          },
          "metadata": {}
        },
        {
          "output_type": "display_data",
          "data": {
            "text/plain": [
              "8"
            ]
          },
          "metadata": {}
        }
      ],
      "source": [
        "def greet(name):print(f\"Hello, {name}\")\n",
        "def add(n1,n2):return n1+n2\n",
        "\n",
        "x = 5;y = 3\n",
        "display(greet(\"John\"),add(x,y))\n"
      ]
    },
    {
      "cell_type": "code",
      "execution_count": 2,
      "id": "41b7e672",
      "metadata": {
        "id": "41b7e672",
        "colab": {
          "base_uri": "https://localhost:8080/"
        },
        "outputId": "e2df4b3f-fbde-4011-8d46-0bda74ffea19"
      },
      "outputs": [
        {
          "output_type": "stream",
          "name": "stdout",
          "text": [
            "Hello, John\n",
            "8\n"
          ]
        }
      ],
      "source": [
        "def greet(name): # Додав абзац для кращої читабельності\n",
        "    print(f\"Hello, {name}\")  # Додав відступ для блоку коду функції\n",
        "\n",
        "def add(n1, n2): # Додав абзац для кращої читабельності\n",
        "    return n1 + n2  # Додав відступ для блоку коду функції\n",
        "\n",
        "x = 5  # Додав абзац та пробіл перед і після оператора \"=\" для кращої читабельності\n",
        "y = 3  # Додав пробіл перед і після оператора \"=\" для кращої читабельності\n",
        "\n",
        "# Виклик функцій відокремив на окремий рядок\n",
        "greet(\"John\")\n",
        "result = add(x, y)  # Зберіга результат функції add в змінну result\n",
        "print(result)  # Виводимо результат на екран"
      ]
    },
    {
      "cell_type": "markdown",
      "id": "cea88baf",
      "metadata": {
        "id": "cea88baf"
      },
      "source": [
        "Завдання 2."
      ]
    },
    {
      "cell_type": "code",
      "execution_count": 3,
      "id": "dfb6d2b5",
      "metadata": {
        "ExecuteTime": {
          "end_time": "2023-07-29T17:05:49.706098Z",
          "start_time": "2023-07-29T17:05:49.688255Z"
        },
        "id": "dfb6d2b5",
        "colab": {
          "base_uri": "https://localhost:8080/"
        },
        "outputId": "a4adba25-8272-45c7-9b04-ca6d2be1bb65"
      },
      "outputs": [
        {
          "output_type": "stream",
          "name": "stdout",
          "text": [
            "Area: 78.53981633974483 Circumference: 31.41592653589793\n"
          ]
        }
      ],
      "source": [
        "from math import *\n",
        "def calcArea(r):return pi*r**2\n",
        "def calcCircumference(r):return 2*pi*r\n",
        "\n",
        "radius=5\n",
        "print(\"Area:\",calcArea(radius),\"Circumference:\",calcCircumference(radius))"
      ]
    },
    {
      "cell_type": "code",
      "execution_count": 5,
      "id": "df263672",
      "metadata": {
        "id": "df263672",
        "colab": {
          "base_uri": "https://localhost:8080/"
        },
        "outputId": "196ba5b7-fcb8-40ad-872e-f5f78309a47b"
      },
      "outputs": [
        {
          "output_type": "stream",
          "name": "stdout",
          "text": [
            "Area: 78.5398, Circumference: 31.4159\n"
          ]
        }
      ],
      "source": [
        "from math import pi as PI  # Імпортую тільки необхідну змінну для зменшення використання простору імен, також змінив назву змінної pi на PI для більшої логічності\n",
        "\n",
        "def calc_area(radius):\n",
        "    return pi * radius**2  # Додав відступ для блоку коду функції та змінив ім'я функції на зрозуміліше\n",
        "\n",
        "def calc_circumference(radius):\n",
        "    return 2 * pi * radius  # Додав відступ для блоку коду функції та змінив ім'я функції на зрозуміліше\n",
        "\n",
        "circle_radius = 5  # Додав пробіл перед і після оператора \"=\" для кращої читабельності та змінив назву змінної\n",
        "\n",
        "print(f\"Area: {calc_area(radius):.4f}, Circumference: {calc_circumference(radius):.4f}\")# Додав обмеження знаків після коми для кращої читабельності\n"
      ]
    },
    {
      "cell_type": "markdown",
      "id": "1fd691b7",
      "metadata": {
        "id": "1fd691b7"
      },
      "source": [
        "Завдання 3."
      ]
    },
    {
      "cell_type": "code",
      "execution_count": 6,
      "id": "1d5acb2d",
      "metadata": {
        "ExecuteTime": {
          "end_time": "2023-07-29T17:06:18.612622Z",
          "start_time": "2023-07-29T17:06:18.598477Z"
        },
        "id": "1d5acb2d"
      },
      "outputs": [],
      "source": [
        "class animal: pass\n",
        "class dog(animal):\n",
        "    def __init__(self,name):\n",
        "        self.name=name\n",
        "        self.type='Dog'"
      ]
    },
    {
      "cell_type": "code",
      "execution_count": 7,
      "id": "0d4b2b8a",
      "metadata": {
        "id": "0d4b2b8a"
      },
      "outputs": [],
      "source": [
        "class Animal:\n",
        "    pass  # Змінив назву класу та додів відступ\n",
        "\n",
        "\n",
        "class Dog(Animal): # Змінив назву класу та додів відступ\n",
        "    def __init__(self, name):\n",
        "        self.name = name  # Додав пробіли перед і після оператора \"=\"\n",
        "        self.type = 'Dog'  # Додав пробіли перед і після оператора \"=\"\n"
      ]
    },
    {
      "cell_type": "markdown",
      "id": "7d1d4f5d",
      "metadata": {
        "id": "7d1d4f5d"
      },
      "source": [
        "Завдання 4."
      ]
    },
    {
      "cell_type": "code",
      "execution_count": 9,
      "id": "a91c1cc4",
      "metadata": {
        "ExecuteTime": {
          "end_time": "2023-07-29T17:06:47.180263Z",
          "start_time": "2023-07-29T17:06:47.173617Z"
        },
        "id": "a91c1cc4",
        "colab": {
          "base_uri": "https://localhost:8080/"
        },
        "outputId": "371800a6-92af-4261-9c58-f59e0994ecaa"
      },
      "outputs": [
        {
          "output_type": "stream",
          "name": "stdout",
          "text": [
            "1\n",
            "2\n",
            "3\n",
            "4\n",
            "5\n"
          ]
        }
      ],
      "source": [
        "list=[1,2,3,4,5]\n",
        "for i in range(len(list)):print(list[i])"
      ]
    },
    {
      "cell_type": "code",
      "execution_count": 10,
      "id": "c0f9541a",
      "metadata": {
        "id": "c0f9541a",
        "colab": {
          "base_uri": "https://localhost:8080/"
        },
        "outputId": "673e4aec-4047-4de2-c003-e90f8917cf92"
      },
      "outputs": [
        {
          "output_type": "stream",
          "name": "stdout",
          "text": [
            "1\n",
            "2\n",
            "3\n",
            "4\n",
            "5\n"
          ]
        }
      ],
      "source": [
        "my_list = [1, 2, 3, 4, 5] # Змінив ім'я змінної\n",
        "for i in range(len(my_list)):\n",
        "    print(my_list[i])  # Додав відступ для блоку коду всередині циклу\n"
      ]
    },
    {
      "cell_type": "markdown",
      "id": "8b0487e6",
      "metadata": {
        "id": "8b0487e6"
      },
      "source": [
        "5.У вас є DataFrame df, що представляє результати тестів студентів з математики, англійської мови та історії. Поточний код обчислює середній бал для кожного студента шляхом ітерації за рядками DataFrame за допомогою iterrows().\n",
        "\n",
        "Ваше завдання полягає в тому, щоб змінити код так, аби уникнути використання iterrows() і замість цього застосувати більш ефективне та читабельне рішення відповідно до правил, озвучених у лекції. Рефакторинг треба зробити лише частині, де рахуються середні, імпорт і визначення датафрейму лишаємо без змін."
      ]
    },
    {
      "cell_type": "code",
      "execution_count": 11,
      "id": "5b3cc648",
      "metadata": {
        "ExecuteTime": {
          "end_time": "2023-07-29T17:15:55.926882Z",
          "start_time": "2023-07-29T17:15:55.686415Z"
        },
        "id": "5b3cc648"
      },
      "outputs": [],
      "source": [
        "import pandas as pd\n",
        "\n",
        "df = pd.DataFrame({\n",
        "    'student': ['Alice', 'Bob', 'Charlie', 'David'],\n",
        "    'math_score': [89, 94, 77, 85],\n",
        "    'english_score': [92, 88, 79, 85],\n",
        "    'history_score': [84, 92, 81, 89]\n",
        "})"
      ]
    },
    {
      "cell_type": "code",
      "execution_count": 12,
      "id": "f5858889",
      "metadata": {
        "ExecuteTime": {
          "end_time": "2023-07-29T17:15:55.926882Z",
          "start_time": "2023-07-29T17:15:55.686415Z"
        },
        "id": "f5858889"
      },
      "outputs": [],
      "source": [
        "averages = []\n",
        "for _, row in df.iterrows():\n",
        "    averages.append((row['math_score'] + row['english_score'] + row['history_score']) / 3)\n",
        "\n",
        "df['average_score'] = averages"
      ]
    },
    {
      "cell_type": "code",
      "execution_count": 13,
      "id": "74cea4fc",
      "metadata": {
        "id": "74cea4fc"
      },
      "outputs": [],
      "source": [
        "df['average_score'] = df[['math_score', 'english_score', 'history_score']].mean(axis=1)"
      ]
    },
    {
      "cell_type": "markdown",
      "id": "34fb1db9",
      "metadata": {
        "id": "34fb1db9"
      },
      "source": [
        "6.У Вас є великий DataFrame df, що представляє транзакції продажу в магазині. Цей DataFrame містить понад 1 мільйон рядків і кілька стовпців, зокрема «product_name», «product_category», «product_price» і «transaction_date».\n",
        "\n",
        "І «product_name», і «product_category» є рядками, що представляють численні, але обмежені унікальні назви продуктів і категорії відповідно.\n",
        "\n",
        "Напишіть код для ефективного перетворення стовпців «product_name» і «product_category» на категорійний тип для ефективного використання пам’яті.\n",
        "Спробуйте вирішити це завдання, мінімізуючи використання пам'яті та зберігаючи читабельність коду. Крім того, виміряйте використання пам’яті до та після перетворення, щоб продемонструвати підвищення ефективності.\n",
        "\n",
        "Порівняйте кількість памʼяті, яку займає наданий набір даних і новий, створений Вами. В лекції був приклад. В скільки разів менше памʼяті займає новий датафрейм?"
      ]
    },
    {
      "cell_type": "code",
      "execution_count": 24,
      "id": "d4926909",
      "metadata": {
        "ExecuteTime": {
          "end_time": "2023-07-29T21:19:30.009527Z",
          "start_time": "2023-07-29T21:19:29.595210Z"
        },
        "id": "d4926909"
      },
      "outputs": [],
      "source": [
        "import numpy as np\n",
        "import pandas as pd\n",
        "\n",
        "np.random.seed(0)\n",
        "\n",
        "products = ['apple', 'banana', 'cherry', 'dates', 'elderberry']\n",
        "categories = ['fruit', 'fruit', 'fruit', 'fruit', 'fruit']"
      ]
    },
    {
      "cell_type": "code",
      "source": [
        "N_ROWS = 10**6\n",
        "df = pd.DataFrame({\n",
        "    'product_name': np.random.choice(products, N_ROWS),\n",
        "    'product_category': np.random.choice(categories, N_ROWS),\n",
        "    'product_price': np.random.uniform(1, 10, N_ROWS),\n",
        "    'transaction_date': pd.date_range(start='1/1/2000', periods=N_ROWS, freq='h')\n",
        "    })\n",
        "memory_before = df.memory_usage(deep=True).sum()\n",
        "print(f'Використання памяті до перетворення: {memory_before / 1024**2:.2f} MB')"
      ],
      "metadata": {
        "colab": {
          "base_uri": "https://localhost:8080/"
        },
        "id": "kNPdtQ0m10UF",
        "outputId": "9fe597ef-35ba-4456-f2bd-2e56c09c2584"
      },
      "id": "kNPdtQ0m10UF",
      "execution_count": 30,
      "outputs": [
        {
          "output_type": "stream",
          "name": "stdout",
          "text": [
            "Використання пам'яті до перетворення: 134.85 MB\n"
          ]
        }
      ]
    },
    {
      "cell_type": "code",
      "source": [
        "df['product_name'] = df['product_name'].astype('category')\n",
        "df['product_category'] = df['product_category'].astype('category')\n",
        "\n",
        "memory_after = df.memory_usage(deep=True).sum()\n",
        "print(f'Використання памяті після перетворення: {memory_after / 1024**2:.2f} MB')"
      ],
      "metadata": {
        "colab": {
          "base_uri": "https://localhost:8080/"
        },
        "id": "pS8R7ENhwgCR",
        "outputId": "3daaf898-68c3-4be5-c2ba-2867c3e70015"
      },
      "id": "pS8R7ENhwgCR",
      "execution_count": 34,
      "outputs": [
        {
          "output_type": "stream",
          "name": "stdout",
          "text": [
            "Використання памяті після перетворення: 17.17 MB\n"
          ]
        }
      ]
    },
    {
      "cell_type": "markdown",
      "id": "131cc08d",
      "metadata": {
        "id": "131cc08d"
      },
      "source": [
        "7.В цьому завданні кілька пунктів. Треба виконати усі послідовно.   \n",
        "    7.1. Завантажте дані у pandas dataframe з файла `ecommerce_data.csv`. Обовʼязково при завантаженні вкажіть параметр `encoding = 'ISO-8859-1'`, без нього буде помилка.  \n",
        "    7.2. Заповніть пропущені значення в колонці CustomerID на -1 та перетворіть тип цієї колонки на str, адже зараз вона типу float, а це не правильний тип даних для ідентифікатора клієнта.  \n",
        "    7.3. З допомогою бібліотеки sweetviz побудуйте html звіт, який порівнює дані для країни \"Germany\" і країни \"France\". У Вас можуть виникнути багато попереджень (Warning), їх рекомендую вимкнути наступним шматком коду   \n",
        "    \n",
        "   \n",
        "    import warnings\n",
        "\n",
        "    with warnings.catch_warnings(record=True):\n",
        "        # your code\n",
        "    \n",
        "    \n",
        "   7.4.Напишіть 5 відмінностей для двох зазначених країн на основі побудованого звіту, без виконання додаткового аналізу іншими інструментами."
      ]
    },
    {
      "cell_type": "code",
      "execution_count": 41,
      "id": "17200e77",
      "metadata": {
        "id": "17200e77",
        "colab": {
          "base_uri": "https://localhost:8080/"
        },
        "outputId": "c57bfb10-1bd4-4333-b66a-5e0f1c98412d"
      },
      "outputs": [
        {
          "output_type": "stream",
          "name": "stdout",
          "text": [
            "Drive already mounted at /content/drive; to attempt to forcibly remount, call drive.mount(\"/content/drive\", force_remount=True).\n"
          ]
        }
      ],
      "source": [
        "from google.colab import drive\n",
        "drive.mount('/content/drive')"
      ]
    },
    {
      "cell_type": "code",
      "source": [
        "data =pd.read_csv( 'drive/MyDrive/Python for Data Analysis by Hanna Pylieva/Data/ecommerce_data.csv', encoding = 'ISO-8859-1')"
      ],
      "metadata": {
        "id": "odk8nbVc566n"
      },
      "id": "odk8nbVc566n",
      "execution_count": 42,
      "outputs": []
    },
    {
      "cell_type": "code",
      "source": [
        "data['CustomerID'].fillna('-1', inplace=True) # Заповнення пропущених значень в колонці  CustomerID на -1\n",
        "data['CustomerID']=data['CustomerID'].astype(str) # Перетворення типо колонки на str"
      ],
      "metadata": {
        "id": "cIsgJc2f--Ru"
      },
      "id": "cIsgJc2f--Ru",
      "execution_count": 43,
      "outputs": []
    },
    {
      "cell_type": "code",
      "source": [
        "data.head()"
      ],
      "metadata": {
        "colab": {
          "base_uri": "https://localhost:8080/",
          "height": 206
        },
        "id": "y1wL6MbPU75G",
        "outputId": "e5c1ff69-1ed6-4e09-ad3c-829c9c7a0988"
      },
      "id": "y1wL6MbPU75G",
      "execution_count": 50,
      "outputs": [
        {
          "output_type": "execute_result",
          "data": {
            "text/plain": [
              "  InvoiceNo StockCode                          Description  Quantity  \\\n",
              "0    536365    85123A   WHITE HANGING HEART T-LIGHT HOLDER         6   \n",
              "1    536365     71053                  WHITE METAL LANTERN         6   \n",
              "2    536365    84406B       CREAM CUPID HEARTS COAT HANGER         8   \n",
              "3    536365    84029G  KNITTED UNION FLAG HOT WATER BOTTLE         6   \n",
              "4    536365    84029E       RED WOOLLY HOTTIE WHITE HEART.         6   \n",
              "\n",
              "      InvoiceDate  UnitPrice CustomerID         Country  \n",
              "0  12/1/2010 8:26       2.55    17850.0  United Kingdom  \n",
              "1  12/1/2010 8:26       3.39    17850.0  United Kingdom  \n",
              "2  12/1/2010 8:26       2.75    17850.0  United Kingdom  \n",
              "3  12/1/2010 8:26       3.39    17850.0  United Kingdom  \n",
              "4  12/1/2010 8:26       3.39    17850.0  United Kingdom  "
            ],
            "text/html": [
              "\n",
              "  <div id=\"df-8a599e49-a3e9-4fee-9598-2b2bd411b5d5\" class=\"colab-df-container\">\n",
              "    <div>\n",
              "<style scoped>\n",
              "    .dataframe tbody tr th:only-of-type {\n",
              "        vertical-align: middle;\n",
              "    }\n",
              "\n",
              "    .dataframe tbody tr th {\n",
              "        vertical-align: top;\n",
              "    }\n",
              "\n",
              "    .dataframe thead th {\n",
              "        text-align: right;\n",
              "    }\n",
              "</style>\n",
              "<table border=\"1\" class=\"dataframe\">\n",
              "  <thead>\n",
              "    <tr style=\"text-align: right;\">\n",
              "      <th></th>\n",
              "      <th>InvoiceNo</th>\n",
              "      <th>StockCode</th>\n",
              "      <th>Description</th>\n",
              "      <th>Quantity</th>\n",
              "      <th>InvoiceDate</th>\n",
              "      <th>UnitPrice</th>\n",
              "      <th>CustomerID</th>\n",
              "      <th>Country</th>\n",
              "    </tr>\n",
              "  </thead>\n",
              "  <tbody>\n",
              "    <tr>\n",
              "      <th>0</th>\n",
              "      <td>536365</td>\n",
              "      <td>85123A</td>\n",
              "      <td>WHITE HANGING HEART T-LIGHT HOLDER</td>\n",
              "      <td>6</td>\n",
              "      <td>12/1/2010 8:26</td>\n",
              "      <td>2.55</td>\n",
              "      <td>17850.0</td>\n",
              "      <td>United Kingdom</td>\n",
              "    </tr>\n",
              "    <tr>\n",
              "      <th>1</th>\n",
              "      <td>536365</td>\n",
              "      <td>71053</td>\n",
              "      <td>WHITE METAL LANTERN</td>\n",
              "      <td>6</td>\n",
              "      <td>12/1/2010 8:26</td>\n",
              "      <td>3.39</td>\n",
              "      <td>17850.0</td>\n",
              "      <td>United Kingdom</td>\n",
              "    </tr>\n",
              "    <tr>\n",
              "      <th>2</th>\n",
              "      <td>536365</td>\n",
              "      <td>84406B</td>\n",
              "      <td>CREAM CUPID HEARTS COAT HANGER</td>\n",
              "      <td>8</td>\n",
              "      <td>12/1/2010 8:26</td>\n",
              "      <td>2.75</td>\n",
              "      <td>17850.0</td>\n",
              "      <td>United Kingdom</td>\n",
              "    </tr>\n",
              "    <tr>\n",
              "      <th>3</th>\n",
              "      <td>536365</td>\n",
              "      <td>84029G</td>\n",
              "      <td>KNITTED UNION FLAG HOT WATER BOTTLE</td>\n",
              "      <td>6</td>\n",
              "      <td>12/1/2010 8:26</td>\n",
              "      <td>3.39</td>\n",
              "      <td>17850.0</td>\n",
              "      <td>United Kingdom</td>\n",
              "    </tr>\n",
              "    <tr>\n",
              "      <th>4</th>\n",
              "      <td>536365</td>\n",
              "      <td>84029E</td>\n",
              "      <td>RED WOOLLY HOTTIE WHITE HEART.</td>\n",
              "      <td>6</td>\n",
              "      <td>12/1/2010 8:26</td>\n",
              "      <td>3.39</td>\n",
              "      <td>17850.0</td>\n",
              "      <td>United Kingdom</td>\n",
              "    </tr>\n",
              "  </tbody>\n",
              "</table>\n",
              "</div>\n",
              "    <div class=\"colab-df-buttons\">\n",
              "\n",
              "  <div class=\"colab-df-container\">\n",
              "    <button class=\"colab-df-convert\" onclick=\"convertToInteractive('df-8a599e49-a3e9-4fee-9598-2b2bd411b5d5')\"\n",
              "            title=\"Convert this dataframe to an interactive table.\"\n",
              "            style=\"display:none;\">\n",
              "\n",
              "  <svg xmlns=\"http://www.w3.org/2000/svg\" height=\"24px\" viewBox=\"0 -960 960 960\">\n",
              "    <path d=\"M120-120v-720h720v720H120Zm60-500h600v-160H180v160Zm220 220h160v-160H400v160Zm0 220h160v-160H400v160ZM180-400h160v-160H180v160Zm440 0h160v-160H620v160ZM180-180h160v-160H180v160Zm440 0h160v-160H620v160Z\"/>\n",
              "  </svg>\n",
              "    </button>\n",
              "\n",
              "  <style>\n",
              "    .colab-df-container {\n",
              "      display:flex;\n",
              "      gap: 12px;\n",
              "    }\n",
              "\n",
              "    .colab-df-convert {\n",
              "      background-color: #E8F0FE;\n",
              "      border: none;\n",
              "      border-radius: 50%;\n",
              "      cursor: pointer;\n",
              "      display: none;\n",
              "      fill: #1967D2;\n",
              "      height: 32px;\n",
              "      padding: 0 0 0 0;\n",
              "      width: 32px;\n",
              "    }\n",
              "\n",
              "    .colab-df-convert:hover {\n",
              "      background-color: #E2EBFA;\n",
              "      box-shadow: 0px 1px 2px rgba(60, 64, 67, 0.3), 0px 1px 3px 1px rgba(60, 64, 67, 0.15);\n",
              "      fill: #174EA6;\n",
              "    }\n",
              "\n",
              "    .colab-df-buttons div {\n",
              "      margin-bottom: 4px;\n",
              "    }\n",
              "\n",
              "    [theme=dark] .colab-df-convert {\n",
              "      background-color: #3B4455;\n",
              "      fill: #D2E3FC;\n",
              "    }\n",
              "\n",
              "    [theme=dark] .colab-df-convert:hover {\n",
              "      background-color: #434B5C;\n",
              "      box-shadow: 0px 1px 3px 1px rgba(0, 0, 0, 0.15);\n",
              "      filter: drop-shadow(0px 1px 2px rgba(0, 0, 0, 0.3));\n",
              "      fill: #FFFFFF;\n",
              "    }\n",
              "  </style>\n",
              "\n",
              "    <script>\n",
              "      const buttonEl =\n",
              "        document.querySelector('#df-8a599e49-a3e9-4fee-9598-2b2bd411b5d5 button.colab-df-convert');\n",
              "      buttonEl.style.display =\n",
              "        google.colab.kernel.accessAllowed ? 'block' : 'none';\n",
              "\n",
              "      async function convertToInteractive(key) {\n",
              "        const element = document.querySelector('#df-8a599e49-a3e9-4fee-9598-2b2bd411b5d5');\n",
              "        const dataTable =\n",
              "          await google.colab.kernel.invokeFunction('convertToInteractive',\n",
              "                                                    [key], {});\n",
              "        if (!dataTable) return;\n",
              "\n",
              "        const docLinkHtml = 'Like what you see? Visit the ' +\n",
              "          '<a target=\"_blank\" href=https://colab.research.google.com/notebooks/data_table.ipynb>data table notebook</a>'\n",
              "          + ' to learn more about interactive tables.';\n",
              "        element.innerHTML = '';\n",
              "        dataTable['output_type'] = 'display_data';\n",
              "        await google.colab.output.renderOutput(dataTable, element);\n",
              "        const docLink = document.createElement('div');\n",
              "        docLink.innerHTML = docLinkHtml;\n",
              "        element.appendChild(docLink);\n",
              "      }\n",
              "    </script>\n",
              "  </div>\n",
              "\n",
              "\n",
              "<div id=\"df-0545731a-4140-4771-accd-f1cd034f920d\">\n",
              "  <button class=\"colab-df-quickchart\" onclick=\"quickchart('df-0545731a-4140-4771-accd-f1cd034f920d')\"\n",
              "            title=\"Suggest charts\"\n",
              "            style=\"display:none;\">\n",
              "\n",
              "<svg xmlns=\"http://www.w3.org/2000/svg\" height=\"24px\"viewBox=\"0 0 24 24\"\n",
              "     width=\"24px\">\n",
              "    <g>\n",
              "        <path d=\"M19 3H5c-1.1 0-2 .9-2 2v14c0 1.1.9 2 2 2h14c1.1 0 2-.9 2-2V5c0-1.1-.9-2-2-2zM9 17H7v-7h2v7zm4 0h-2V7h2v10zm4 0h-2v-4h2v4z\"/>\n",
              "    </g>\n",
              "</svg>\n",
              "  </button>\n",
              "\n",
              "<style>\n",
              "  .colab-df-quickchart {\n",
              "      --bg-color: #E8F0FE;\n",
              "      --fill-color: #1967D2;\n",
              "      --hover-bg-color: #E2EBFA;\n",
              "      --hover-fill-color: #174EA6;\n",
              "      --disabled-fill-color: #AAA;\n",
              "      --disabled-bg-color: #DDD;\n",
              "  }\n",
              "\n",
              "  [theme=dark] .colab-df-quickchart {\n",
              "      --bg-color: #3B4455;\n",
              "      --fill-color: #D2E3FC;\n",
              "      --hover-bg-color: #434B5C;\n",
              "      --hover-fill-color: #FFFFFF;\n",
              "      --disabled-bg-color: #3B4455;\n",
              "      --disabled-fill-color: #666;\n",
              "  }\n",
              "\n",
              "  .colab-df-quickchart {\n",
              "    background-color: var(--bg-color);\n",
              "    border: none;\n",
              "    border-radius: 50%;\n",
              "    cursor: pointer;\n",
              "    display: none;\n",
              "    fill: var(--fill-color);\n",
              "    height: 32px;\n",
              "    padding: 0;\n",
              "    width: 32px;\n",
              "  }\n",
              "\n",
              "  .colab-df-quickchart:hover {\n",
              "    background-color: var(--hover-bg-color);\n",
              "    box-shadow: 0 1px 2px rgba(60, 64, 67, 0.3), 0 1px 3px 1px rgba(60, 64, 67, 0.15);\n",
              "    fill: var(--button-hover-fill-color);\n",
              "  }\n",
              "\n",
              "  .colab-df-quickchart-complete:disabled,\n",
              "  .colab-df-quickchart-complete:disabled:hover {\n",
              "    background-color: var(--disabled-bg-color);\n",
              "    fill: var(--disabled-fill-color);\n",
              "    box-shadow: none;\n",
              "  }\n",
              "\n",
              "  .colab-df-spinner {\n",
              "    border: 2px solid var(--fill-color);\n",
              "    border-color: transparent;\n",
              "    border-bottom-color: var(--fill-color);\n",
              "    animation:\n",
              "      spin 1s steps(1) infinite;\n",
              "  }\n",
              "\n",
              "  @keyframes spin {\n",
              "    0% {\n",
              "      border-color: transparent;\n",
              "      border-bottom-color: var(--fill-color);\n",
              "      border-left-color: var(--fill-color);\n",
              "    }\n",
              "    20% {\n",
              "      border-color: transparent;\n",
              "      border-left-color: var(--fill-color);\n",
              "      border-top-color: var(--fill-color);\n",
              "    }\n",
              "    30% {\n",
              "      border-color: transparent;\n",
              "      border-left-color: var(--fill-color);\n",
              "      border-top-color: var(--fill-color);\n",
              "      border-right-color: var(--fill-color);\n",
              "    }\n",
              "    40% {\n",
              "      border-color: transparent;\n",
              "      border-right-color: var(--fill-color);\n",
              "      border-top-color: var(--fill-color);\n",
              "    }\n",
              "    60% {\n",
              "      border-color: transparent;\n",
              "      border-right-color: var(--fill-color);\n",
              "    }\n",
              "    80% {\n",
              "      border-color: transparent;\n",
              "      border-right-color: var(--fill-color);\n",
              "      border-bottom-color: var(--fill-color);\n",
              "    }\n",
              "    90% {\n",
              "      border-color: transparent;\n",
              "      border-bottom-color: var(--fill-color);\n",
              "    }\n",
              "  }\n",
              "</style>\n",
              "\n",
              "  <script>\n",
              "    async function quickchart(key) {\n",
              "      const quickchartButtonEl =\n",
              "        document.querySelector('#' + key + ' button');\n",
              "      quickchartButtonEl.disabled = true;  // To prevent multiple clicks.\n",
              "      quickchartButtonEl.classList.add('colab-df-spinner');\n",
              "      try {\n",
              "        const charts = await google.colab.kernel.invokeFunction(\n",
              "            'suggestCharts', [key], {});\n",
              "      } catch (error) {\n",
              "        console.error('Error during call to suggestCharts:', error);\n",
              "      }\n",
              "      quickchartButtonEl.classList.remove('colab-df-spinner');\n",
              "      quickchartButtonEl.classList.add('colab-df-quickchart-complete');\n",
              "    }\n",
              "    (() => {\n",
              "      let quickchartButtonEl =\n",
              "        document.querySelector('#df-0545731a-4140-4771-accd-f1cd034f920d button');\n",
              "      quickchartButtonEl.style.display =\n",
              "        google.colab.kernel.accessAllowed ? 'block' : 'none';\n",
              "    })();\n",
              "  </script>\n",
              "</div>\n",
              "\n",
              "    </div>\n",
              "  </div>\n"
            ],
            "application/vnd.google.colaboratory.intrinsic+json": {
              "type": "dataframe",
              "variable_name": "data"
            }
          },
          "metadata": {},
          "execution_count": 50
        }
      ]
    },
    {
      "cell_type": "code",
      "source": [
        "! pip install sweetviz"
      ],
      "metadata": {
        "id": "Akq_p9G6A8lQ"
      },
      "id": "Akq_p9G6A8lQ",
      "execution_count": null,
      "outputs": []
    },
    {
      "cell_type": "code",
      "source": [
        "import warnings\n",
        "import sweetviz as sv\n",
        "\n",
        "with warnings.catch_warnings(record=True):\n",
        "\n",
        "  df_germany = data[data['Country'] == 'Germany']\n",
        "  df_france = data[data['Country'] == 'France']\n",
        "\n",
        "compare_report = sv.compare([df_germany, 'Germany'], [df_france, 'France'])\n",
        "compare_report.show_html('compare_report.html')"
      ],
      "metadata": {
        "colab": {
          "base_uri": "https://localhost:8080/",
          "height": 66,
          "referenced_widgets": [
            "83f3ac148e7047b29e94c44264cd724a",
            "1bb31e5d5c254ba4bfe0bad58b236e26",
            "cee8e118f7b04f9d923d4c73fba4aacb",
            "15fffbd4803440c09853e157b9859267",
            "980b4283c39441d28acfdbaa49e881bb",
            "ba94c0631eb24a249c8049cefadb6ed8",
            "21e3e2faa2694cb08e0b763b0688eaa3",
            "b6053058b530499ba2c98ca5b514be8c",
            "c2df48e4302d4b5ab3269d710d6a0076",
            "b81cb52ce9c9426c9827f60508865fcd",
            "ba836ca7272844d3b4db432e87a57167"
          ]
        },
        "id": "nk94iejK-OkG",
        "outputId": "0c3c9943-ef74-40dc-c50d-a9c82ebf1de3"
      },
      "id": "nk94iejK-OkG",
      "execution_count": 49,
      "outputs": [
        {
          "output_type": "display_data",
          "data": {
            "text/plain": [
              "                                             |          | [  0%]   00:00 -> (? left)"
            ],
            "application/vnd.jupyter.widget-view+json": {
              "version_major": 2,
              "version_minor": 0,
              "model_id": "83f3ac148e7047b29e94c44264cd724a"
            }
          },
          "metadata": {}
        },
        {
          "output_type": "stream",
          "name": "stdout",
          "text": [
            "Report compare_report.html was generated! NOTEBOOK/COLAB USERS: the web browser MAY not pop up, regardless, the report IS saved in your notebook/colab files.\n"
          ]
        }
      ]
    },
    {
      "cell_type": "markdown",
      "source": [
        "MAX UnitPrice Germany - 600, France - 4161 - Найдорожчий товар для вибраних країн.\n",
        "\n",
        "MAX Quantity Germany - 600, France - 912 - Кількість товарів для кожної країни.\n",
        "\n",
        "Кількість унікальних товарів Germany - 1703, France - 1565\n",
        "\n",
        "CustomerID Germany - 9495, France - 8557 - Кількіть клієнтів для двох країн.\n",
        "![ChatGPT.png](data:image/png;base64,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![Chat.png](data:image/png;base64,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))\n",
        "Кількість RAM для Germany - 4.1 MB, France - 3.7 MB"
      ],
      "metadata": {
        "id": "xuoWunWtJrp8"
      },
      "id": "xuoWunWtJrp8"
    },
    {
      "cell_type": "markdown",
      "id": "07ae375a",
      "metadata": {
        "ExecuteTime": {
          "end_time": "2023-07-30T18:55:42.650457Z",
          "start_time": "2023-07-30T18:55:42.635729Z"
        },
        "id": "07ae375a"
      },
      "source": [
        "8.З допомогою ChatGPT виявіть, чи є та які помилки в наступному коді.  \n",
        "Попросіть після цього переписати код із дотриманням PEP8. Проаналізуйте результат. Чи справді ChatGPT виправив всі стилістичні помилки? Якщо ні, напишіть йому ще кілька запитів, аби код відповідав вимогам PEP8.  \n",
        "Вставте фінальну версію коду з чату у ноутбук та запустіть на заданому списку. Має вертатись 50.  \n",
        "Напишіть, які промпти (інструкції) при зверненні до ChatGPT ви застосували та додайте скріншот(-и) з промптами та відповідями чата.  \n",
        "Якщо зробили висновки при виконанні цього завдання, то діліться також :)\n",
        "\n",
        "**ЯК ВСТАВИТИ СКРІНШОТ в Jupyter Notebook** :\n",
        "1. Створіть нову Markdown клітинку\n",
        "2. В новоствореній клітинці обираєте в меню Jupyter Notebook Edit -> Insert Image\n",
        "3. Обираєте картинку\n",
        "4. В клітинці має зʼявитись текст, який містить картинку. Запустіть клітинку.\n",
        "\n",
        "Або можна просто перетягнути картинку в Markdown клітинку."
      ]
    },
    {
      "cell_type": "code",
      "execution_count": 51,
      "id": "a5c010c4",
      "metadata": {
        "ExecuteTime": {
          "end_time": "2023-07-30T19:16:20.977219Z",
          "start_time": "2023-07-30T19:16:20.973688Z"
        },
        "id": "a5c010c4"
      },
      "outputs": [],
      "source": [
        "def CalculateVariance(nl):\n",
        "    sum_list = 0\n",
        "    for n in nl:\n",
        "        sum_list = sum_list + n\n",
        "    mean = sum_list / len(nl)\n",
        "    sum_squares = 0\n",
        "    for n in nl:\n",
        "        sum_squares = sum_squares + n**2\n",
        "    mean_squares = sum_squares / len(nl)\n",
        "    return mean_squares"
      ]
    },
    {
      "cell_type": "code",
      "execution_count": 56,
      "id": "24bb3f81",
      "metadata": {
        "ExecuteTime": {
          "end_time": "2023-07-30T19:16:09.201841Z",
          "start_time": "2023-07-30T19:16:09.199174Z"
        },
        "id": "24bb3f81",
        "colab": {
          "base_uri": "https://localhost:8080/"
        },
        "outputId": "41ab6bac-7f0a-4b84-d8b2-81183167b443"
      },
      "outputs": [
        {
          "output_type": "stream",
          "name": "stdout",
          "text": [
            "7275.0\n"
          ]
        }
      ],
      "source": [
        "input_list = [75, 80, 85, 90, 95]"
      ]
    },
    {
      "cell_type": "code",
      "source": [
        "def calculate_variance(data):\n",
        "    n = len(data)\n",
        "    mean = sum(data) / n\n",
        "    sum_squared_diff = sum((x - mean) ** 2 for x in data)\n",
        "    variance = sum_squared_diff / (n - 1)\n",
        "    return variance\n",
        "\n",
        "input_list = [75, 80, 85, 90, 95]\n",
        "variance = calculate_variance(input_list)\n",
        "print(\"Variance:\", variance)"
      ],
      "metadata": {
        "colab": {
          "base_uri": "https://localhost:8080/"
        },
        "id": "7K46LLT8Y--A",
        "outputId": "23081ad9-4648-4fd9-a868-26fb568936b5"
      },
      "id": "7K46LLT8Y--A",
      "execution_count": 62,
      "outputs": [
        {
          "output_type": "stream",
          "name": "stdout",
          "text": [
            "Variance: 62.5\n"
          ]
        }
      ]
    },
    {
      "cell_type": "markdown",
      "source": [
        "Chat GPT  може виправити всі помилки в коді, але якщо задавати правильні питання та, приблизно, знати яка відповідь має бути. В даному завданні мені не вдалося досягти бажаного результату від chatGPT маю тільки 62.5.\n",
        "\n",
        "На питання: result suppose to be 50 but its 62.5\n",
        "Відповідь: Now, when you run this code, it will correctly compute the variance, which should be approximately 50 for the given input list [75, 80, 85, 90, 95].\n",
        "Можливо він вважає що 62.5 це приблизно 50:)\n",
        "\n",
        "Для отримання коду згідно з PEP8 я використав наступний промпт:\n",
        " - Перепиши код з дотриманням PEP8\n",
        "\n",
        " У відровідь отимав код зазначений вище зазначений як Код 1.\n",
        " Після уточнення тогоЮ що результат маж бути 50, а не 9093.75 код був переписаний(Код 2)."
      ],
      "metadata": {
        "id": "2VCuNW-0hiDY"
      },
      "id": "2VCuNW-0hiDY"
    },
    {
      "cell_type": "markdown",
      "source": [
        "![image.png](data:image/png;base64,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)\\\n"
      ],
      "metadata": {
        "id": "Qa9OXphimgvm"
      },
      "id": "Qa9OXphimgvm"
    },
    {
      "cell_type": "markdown",
      "source": [
        "![image.png](data:image/png;base64,iVBORw0KGgoAAAANSUhEUgAAAtMAAAIpCAYAAABg/bROAAAAAXNSR0IArs4c6QAAAARnQU1BAACxjwv8YQUAAAAJcEhZcwAAEnQAABJ0Ad5mH3gAAJcjSURBVHhe7f0PfB3VfeD9f70Jj9NgS1CTSMFgubGFMWkQP4rlQLbWxvbCE8DyiwQ3DVaV1mrc34LsdnEcMFrvstUq/hd49bEN+4p3TYtqSIrc8FgitLi2GzkNRDIPRc4TQBhvLf9hpQQ3SDUk3iSr55wzZ+bOzJ1779y598qS/HnzGnxn5s7MmTN/7nfOfGc0ZVQRAAAAAHn7V/ZfAAAAAHkimAYAAAASujiD6TMd0lDWIB1nbP94N+blHZKOL5VJ2ZZe2x+td0vu7xTNkW1SdiG3mdkGZbLtiO0HAABQcgTTvbItYwDhBFxjElzoQOpLHWqJAAAAwPgx+VumTYvmNnVZgPgqZMWTIzLyQK3tdy6cGvZewMuZBetlZGSPrJhp+8fazBWyZ2RE1i+w/SiJob0NXDgDACYUcqYBAACAhIoeTJs82jK3C+W4uq3E5l813tcClXU63Sr55AqpsL3OfHzfz5C3a+a5pFV9apWl5rvhFmonjcWdT3rLa3B8vBaz0DShdTEtb/7xEWUPfkdN/7YdEZBH2SJa551lBIfp+nLqwNcSbXKFq6XpWZHOVdVmWeF6CpY3x10AN//7iJODHJgmsF1D8wmvg9tvc5nd6dLTjrJvj/TyZCi/+z132oLXI8u+l7VMWdYnXEZXuO7M93zz8O+DSddLyzZf3z4VONa9/dYZX72qU+TZJqmOGOdN462jUxfh/REAgDGl3zOdWc/o1unTR7f22t6AwdFnGoPjejZPH52+ucf2Kb1bR6dPXzn6zGl/f+g7Ss7p/E4/M7oyME6VMTS/ADOvrepbPmYeapn+4WnLTF93U87GZ9SaZ2Dnu7Ij9Y3Bjq3ePM30gbI4deif52DHytB3nHIUVrbw9+1yA8P833HGp9Yj3O9w1if9e+HtG+DWvVfWVFnShqXtE+Ht5Z9GTRWuu4jt4U7nrXdaeTIw3/Ntg4LWQ38vSzkzlSn8PS2wPs7ygtspNCy8HuEyJl2vXPP1zSe8z/nLa7ZhaL3D54fUMZU+PQAAYy1WMO38+Ed3waDEHwRqzg+o92Nnfvj9P7hKnOn8zDzC388i6vs2YEj9qGvBZZofdX+woKUFDEHhH/2ATNMGhoeDXis0bdKyefVpvrtVXYSkD3PmGq7/6O0RGcDn2j5R5YzaL8LziewPr2+w/jJtj8BwU56IOg8Ll7ug9QiX225Tty4zlCnO+qQFo6Fy6u+Gt2OgjAnXK+d87T4ULn+4vGnlt9OlzRsAgHEiVprHxoMjMjIS7o7J7rvsF7S3T0inl07hdk56QFCNVPkfIos9nbWgUS3X+X5ht3frZfaV9mOEgeOdIm1LfWVS3fwmVdZMhmTgNVVXi92H9kL0et61XBaFH6CbuUiW39UpJ3Qqx5kB6ZONUpfjIbf8yyZSNadeOrsOO7fNdVla6mT94o3esKGX9plhGUqf2XVVqfSbgoT2i1iyTZN5e9Sq9ZbXBpy6MLLvC/mJsx7p36moqhF59oQM2P70MsVbn4q718rGZ/fJYZvq4WzXtfbBTWcebrqO15lUqFxy13Wc+dbPqbKf4qqQFc1qPzXzjkgtAQDgAituzvRdu+VYWtA9InvuzhFu5TWdfdPEyAGpyZDDWyz1TxxLK9MFfaOET75lq7h5udTbIKv3UKsTlC2os4HXkBzu6sx8IYAJpFbqWjpl30vmEilyu0ZfHK/P/0IqpFTzdd7kMiLHnujL8OwDAAAXTvGC6Stne8FaXpJOp36i15sfWF+LaxEFWnJjqZCq60RaD2X4mc+0nmcOy75n/a2QrdIdfojOtN6n5F82ZabbAt4r3W1u67cTeJ14e0BOPJu7RXxiybw99MVE8VrUi8OUKeudgfjro1uqzf5h9i3/ds2xjyZWqvkGVdy9RwXVB2Rj1DECAMAFUrxg2gZrTQ8F3yrRuyVHK1K+0x3Zlt8fitFBrPTJQJ7ButOS2yTrAq3evbIty1/8q23YLfVtSwMt5UN7tzlvHpi5QtaqwLVpvn+9hqTjoabUbXjzHRWULPF/Ry0zdLs8Sdl0wLNoWb2a91Jp9QVtOjA3w+6aLZlvwDvBUufxVBLCRBC1PfT+s7StXnY3FNxeWoBWWep/+4opU5YUISv2+uhUKNkn7Xv2iTzRGAjQTUqImkfgGDrTIdsC+1L+ijXf9HQXdYxsCZ4bUnibBwDgwitimodOvzimfsTta61st31O8Mc8Xf7TtS5Jfa+6a7kc8782L8wLYvX387g9rP9Ix+u7RQJ5oNtldrYgLGKa6q7ZXp507QMjcqDFnx9eLfuWHfP9cZSo73RLnZpnvR1vJCmbYoJw9a8/aHOH1S9blLkOFTeQ08uaMMFLVD0tETlwwVN1NsqB5hOp/V1dLOkUiZx/ECb2+ugLJ3WcqAB9+c2hrapTJg5uDBxDZfNPSF2uVKxcijVf3zMR3qvxXvOfG5aKxKkrAADGyBT9FKL9DKDU9LuaTQBchFxiAABwwRX3AUQAAADgIkIwDQAAACREMA0AAAAkRM40AAAAkBAt0wAAAEBCBNMAAABAQgTTAAAAQEIE0wAAAEBCBNMAAABAQgTTAAAAQEIE0wAAAEBCBNMAAABAQgTTAAAAQEIE0wAAAEBCBNMAAABAQgTTAAAAQEIE0wAAAEBCBNMAAABAQgTTAAAAQEIE0wAAAEBCBNMAAABAQgTTAAAAQEIE0wAAAEBCBNMAAABAQgTTAAAAQEIE0wAAAEBCBNMAAABAQlNGFfs5q/b2dnnhhRfkrbfekl/84hd2KAAAADD5XHLJJTJ37ly57bbbpLGx0Q5NlzOYPn36tDzwwAPyyiuvyPnz582MP/ShD8mUKVPsNwAAAIDJQ4fHP//5z00D8tSpU+XGG2+ULVu2yFVXXWW/kZIzmF65cqX09PTIv/pX/0o+/OEP26EAAADA5Pf++++b4Lq2tlaeeuopOzQla860Tu34x3/8RwJpAAAAXJR0DKwzMnSWho6Nw7IG0zpHWqd2EEgDAADgYqVj4f/1v/6XiY3DsgbT+mHDD37wg7YPAAAAuDjp5wZ1bByWNZjWSdf6YUMAAADgYqYfRIx6o13O90zz1g4AAABc7DLFxDmDaQAAAADRCKYBAACAhLK+Z1q/oPp//+//bfsAAAAwnv3Wb/2W3HzzzXLppZfaISm/+tWv5PXXX5eDBw+aP0iC/OnXRetX5PnRMg0AADAJlJeXy3333SczZ860Q4L0A3Sf//zn5VOf+pQdgmKgZRoAAGAS0K3SOpj+wz/8w4zxW3Nzs3kjxTe+8Q07BPmYsC3Tn1q7U3au5SoKAAAgTP9NkGuuuUauuuoq068/X3vttaa7+uqrzTCXTvXQAWFWt/yJ7HziCXnCdg//rh0+zl2oeHF8BtO/+7A88fAXbA8AAACifPzjH5cdO3bIgw8+KMuXLzfDvvrVr3rdf/7P/1laW1tjv+pYB6RP/OFl8r1Vq2SV7V7/6J8ITZqZkTMNAAAwQen859OnT8uXv/xlL/j1dxs2bDA51HPnzrVTZPMF+T9veEdeWPWw/JUdov3V9j+TH9jPSFfynGl9hdMg35O35t4m10/TQ046G0m3Pt/yruxa626gL8jDT/y2vPv/viPX/+YsM0TkfTn635vlBzeF5nHuqG+6T8mfbF9t562cfEFWPezsAl94+AmZ/8YLIrfeJmaOvnEAAAAT3b333is6lPuv//W/2iHpdKqGHn/kyJHs39ex2bWvZ42VdGx1mxum+eKxvOM9Fd/92YtmgMc/7/df3SXN29UUOuXkD6+XDzuD5eT+VfLwt2yPmZeN8dTyjr56hcyVPc50ofgwOF1yFyxn+sM3/LbIt5wrpF1qRW/TKRzf+ls5qlb5U7fYL/3ufJl18nvyZ48+LKv2n3QC31Wpik7NY5ea7nr5P03+jlNRc9/a5V2BvSC3BfJlZt06X143416Qk7N+W/7EXR4AAAA8n/roFfL+Pw/YvnQm2FWRlhtz7Xprrqz2peXmFe+FAmkdjPvnnQqk58pb/90ZpmM5uXWnjeV0DHibXKGCbmfc63LZDW7Ircc1eGVxpntYhd6lMSbB9Puv7vEq7Qfbv6eC2vlqhX4gP3hLZO5NTuD7hWtnyck3Ml8Jpeahp3tfrvionq5KLlObaI+5AnH81f6jaqafUtXoOLnfvVXxV/L6yQ/LZe7VFAAAwASXJcEgQH9PP6g4Y8YMGR4etkODfvDjd+TDv15l+8I+JR/79ZPygq/VOhXTOZLHeypumytydH9o+KzLRHzz1LHc377qziscA+px79vPaty0D8v1f+g+RKlbr6+Qj5WoQfWC5kzrin7HBL5fkPm/flT+tgjN7wAAAAjS6R27du2SK6+8Ul566SU7NOTku/K+Lzgultzxng5+35H/GWqtzuqWj6nwOBudZuK2TOsuPa2kWMYmzcPXUvyptb8ts06+nmot/ue5ath8ueItdeVihuVjQN6V66XBl9bxhVuvF0k0LwAAgMlp3759snnzZlmzZo380z/9kx0a8uKfyfdOzpLbtvvf3vEp+ZOHdf8P5H/+sxrnS+sIxnSFxHs6eyA4b0MF93JDgy9FVz8gqcK8l9UcXvyBvOWl/Wp6nJvmoeLDc7Pkt8foNXljk+bxz5dJg31X4eq5b8ku3y2Cv3rjHbleVcz3fKka8q3X5eSs29T33byYTH4gf7b2BXnnhtW2Gd/J5XESzwEAACY3/aKIbO+Ndl+Jd+rUKXnzzTfll7/8penP5K8etrnQNq564okGkf3Ow4N/9fAuOfrrOj6Ljunyjvd8wvM2z7+p4L55v5rOl64h+90WZhUDfuuoXHGrO26+vOuleaTHh08ELhCKa4ze5uE+WRkhxpOjAAAASPeZz3xGVqxYIQMD0Q8OXnLJJeZd1H/8x38s//Iv/2KHFt/FEu+Nw7+A+Cn5k1uyP3gIAACAaDr/+fnnnzd/2TDKu+++Kzt37ixpIJ3b5I73LlzLtL5CuXVW6j2CAAAAmJAulngvqmW65ME0AAAAMBmMwzQPAAAAYOIimAYAAAASIpgGAAAAEiKYBgAAABIimAYAAAASIpgGAAAAEiKYBgAAABLK+Z7pt956y/YBAAAAF6+5c+fynmkAAACgWAimAQAAgIQIpgEAAICECKYBAACAhAimAQAAgIQIpgEAAICECKYBAACAhAimAQAAgIQIpgEAAICECKYBAACAhAimAQAAgIQIpgEAAICECKYBAACAhAimAQAAgIQIpgEAAICECKYBAACAhAimAQAAgIQIpgEAAICECKYBAACAhAimAQAAgIQIpgEAAICELlgwPbXpRamov9X2xbVGfn3zi/Ibtst/+vz90bSPy5mqG5zu8kvt0CL5wAx53Z131ZXydTt4crhUvqvX66Mz5I/skPFljXSdGpEjj9veGNY8d0pGRkac7uWddqjPfV1y6lSXmjMAALhYTKiW6alNX5TyY9+Uf3rwFtMNde63Y3ILBMV5BK7fOPc/ZObAq/KnZ0fskCL61VmZr+Y987QK0uygvJhgPN8g/BJ55qM3yOvTLrH9KV+/PHr4ZLTz5TapG2qXBffaATHsuPNqKSsrk5bDw3ZIyGPLZN9QnbRFBdoAAGBSmkDB9K3yf1whMvzDHbY/Ph0k/scZP5dv6sDVdMNyU7FbmSeMX8jB90ek7MNloRbjS+WmshH54c9+YfsL9Z78G13XPz4r37BDxo3Hj0jjNf3SflOzHVA8zTe1SHdFY14t3gAAYOIaw2D6Vpn+QCpF48pqO9hV+xfeuN/YvF+mX2WHe+bJJZfbj/n4wAy5QwWJ3z/9tnzFDjKB3k/fs5+VqVf6Wq1vkO9OtcNjCrZ6+6bX8w2kOejUh4/LMx+wvTnZVAm38y4A7PCrrpYy+ah80ftOcN6ZWuO/8bNhGfm1clniL8fUcqlWww/+yvZnXLbirpc/TcU3PndqTI55q37/PNJby0PTp9Vxalz6tGuka9k86d+zQMKhtE7jOPXcGtn5sk3lUF3+QfEOWdbVL/OWRad7OPM+IrRdAwAwOYxZMD216WG54p1Uisbbx+wI7apHpOJzV8o7O51x//Ttt+WK5r8QE5PqcSbA/qKUq97yz7kBtx2fwx+poLEsECSGqeDrw8O2xVp1gz+W6sr4qRM66Au2er8q/+a8HVmgr19eLi978z0mx8qqbaBuW31NesiPfcv+H/I77nqqoNRfrj89+yH5oht0/kq3QJfJJ38tFWh+/cMflZH3R7xW5MzLtn7tavmPV02V7+jxuhxlFV4gnys1Jue8Vf9/vGTIGa+2R9mMj/i2hw6Wq6Xi7I/s9KrzWr91Cot/3DEZmvGJ4Lzvu1VuKO+XngzpHeWL2mT5YIuXzpEpKM7q3h7pL79Bbr3P9gMAgElrbIJpFRBfVv2mvL07OkXjAzd+UuTFr8u/nLYDep+Wd356jVxaqz6fXidDJgD/puhM1eFv24D7wd+X4sSsoVbq88NyTD4ks2K1Hl8qX5xRJscG/a3exfOVnwZb019WsWnFJfFymnVw7C/XN84NyTGvNTqc6pGe4pF72b7Wfhucf/SDZkROOef9s1Pyp+42CW2PP5pWIdVq/J+di0hH+YC6QBD/uPfkmyqgr/6wr+X7E5VSPjwo/bY3zZvtcvWdzn66429eleHySpln+vLRL4PD5VL5Cdvr03xTmQrU01vFAQDAxDQucqY/+JFp8uFbHrYtzrp7WK5IktKRkM6p9lIGqqolnIGS0Qc+JBW6bfiXtr/YQuknXyyzw3O6RGap2LS6MvN6BVI90lI8lFzLDnz/F/I7P86jRT7xeql1ukR9+Rc/j87D/uBUKdMt5r55/0d1seO3Zlal/VRKO2RgSKRyFu/1AABgshs3DyC+/+LDtsU51f1zrx1ZgG+owEvC+cE+Ok3ji2X+VIlj4s9AyepXPxcVM5WGzkeu1K3LbrlelW/m+coP/7RO50sD8aV6hFM8irHsjAqc97Ff5PiybtW28/U6352HHScH7adSWiNVFSKDJ/N/WBYAAEwsYxNMnz4hvxCbtqF8oH5/4AHE8z98Uz58y1ciHjosgvM/ke+roPHTM0IPqfkfevvZeS+A/vrlebRMmxSF8LxDfm2qnZ+Tzxt/3pqv1XvqlektuCaY/6jclJY87qRxZM/9dlM9rjYPaKa/xSPHsguSfN6mRT2cY+3SKSG/drX8SbbX+/1oMGHqRj7mSWX5sAz+yPb68AAiAACTyxi1TO+Qf/72m97Dg7M+0iUnXzxnxym9v28fOnTTPHQX7wHD3HQKwo/k++K//V8uL9vWSieXODXujl+c8rVMO+9k9tIFVBBnpvcF4l/56avyzV8EUwu8QO/82/LNEfdtG5+Qjw4HW729N1YE3sphA+BfnZXv6ED9Kjvf8vPy/bRG2ffk35gHJu13fG/z0A8BmocOzXDbhf6AipPqUZb+gGasZWeSo84Kmrei3819+pRU+FNYvPXSD2Y6Dx1641QXCLwf2y+vDs+T5c/lm4Lh/JEX/YaPtkXlItc0Om/8iHqn9OMLZd7wq7L/MdsPAAAmrSmjiv2c5sYbb5S33nrL9gGTxONHZKRBpL0kDwLqoLtNKrvK8vqDMAAAYPybO3euvPLKK7bPMW5ypoExc+8CaX9znjSW4C8VJvnLigAAYOIimMZFqSR/qfC+Llle0S0tJfjLigAAYHwizQMAAACIgTQPAAAAoIgIpgEAAICECKYBAACAhAimAQAAgIQIpgEAAICECKYBAACAhAimAQAAgIQIpgEAAICECKYBAACAhAimAQAAgIT4c+Ilsua5U9K2qNzpebNdym5qdj773dclpzbVSXmm8Rezx4/IyLJBabl6meywg7LbKUdGGmWe+Tws3RuulmWPmR7PzpdHZGFvmSy41w5ATLfL6g01MsP2nT95SB59qsf2JVR7j9y/pEqmmp6z0rdplzxvPjsWrrxfFs9yxsrZPtm0yz+2MKWc93jnrvvZo5tk13fswJLz7z/nZeDgo/J0r+kBgAmHPyc+hnbcebWUlZVJy+FhO6TIdLB5qkvW2N5JRV9kNFRK9+a4gbTWLAtUfZeVtUu/HRLW/OfdUtlwSrruswOK6Y7VsmH17ebj7as3yP0rF5rPsejAcsMG2eB198s9tXbcOHD7ahUI6aBz0ybTFRxIa71Py6N6fgcHVHiVruepR82yDp2MGluYUs67YGZfWK3Cz8nkedll9p0+ddkEAJMPwfSF9NgyuVoHgLRK+6yRrgfrRA5vTWtZLpiu7z2DUvdgaS5Czr+XChXOvRs34LxdVi+pknNHnUDV6cZTy91CuWyayNkzF0/r7WTmXkiMXas0AEx+kz7NI5BuofTvcW/zq6DtVJtUdqVu+5vvVu4zwa3+/FV5VQYX1ck86Zf2PSKNDfMyp2xk4J+nn045aLzG+Tx8uEWuvjPUBqtbnvXyLO87bmqIHZ6iyli2QMYiLP/LB0bl5sttj0yRjgdFNti+FzaPyo93TpHfO+30b2oaldt+MkVu7NTjRH78opr2FpGRF6fIj+Y783nJ9/3M6R06jWOh9GwYlOXu+g93Z/jechmMSPNwpG/3wgRTIALOD8ihR5+WrGG1btG+XtLSHFzmtvylb6RSEUx6xDR5Q39fTzvznAxMq5Kqqedl4OigVF5fJVPjLNcKpDwo6bf/nfWTJGkBZt1SNROZWuBfHzvIL239YwquV3oaiZZ53pnSWhbKPfd/WmTonFTNUmPP9kmf1EiN/uitm/7OYrU99GclkEai53uVnD54Tq51U1y8bZVpPwqmReTeXpn455+eaqHn+2n5vrxx6WKzPlp+8860Xn76e9fKOdI8AExgF1+ahwo8v7poUAWZ+va/0+UTQJUvukEFZS3SPTxPGnWAt6Fbhq9ZqMK1wjXf5JSn/U07IEAFhDrNYUOq3F6w7bZm7+l3gkk7vmyMAummehUAvzNF5j7odqlAOjc17UfUNN+eImW3jMpH/14F4sdEPnGjHa3srJ0nw337M6R3qO2wqVL2mfVtl/7yOml83I6KbYfs7xuWebXF2Iqacwu776wTfDi3snWwoj7HCWi/c1p9f4bUJL21P6NKpvXr5U+Vqut1UKqWP7VS5sRJE1HB7uJZ51SgaVvEj6qSXG9TTLzUEycAm3G9m4ISt5wqcJp52ra0u/Meo/SF0HodOjlNau6/R4W5cehguEamqQDaKXufnJu1WFbfYUerULGq4pwc0ukpM2rk2vcOmXSRGTPdFB8VSJ9zU2IOqQudmlDKj9rW5uLBmffZqVVSY+ZtUyFM2osO/p2yB+5SqG3yaf/2Ul38C5zcqRZT1Xrq9dHzNes0L26daZnWCwAmv4sgzWOeLMw74LLe3Oe1bvZ35ZO/WwzlcsNni5+MoFvKR0ZG0roj+dRRtcgm+zFfL71gP/x0ijyT1jq1RgUqIoMnM9W0frDQvWholh51IVI5K/862nFyUKSiqiSpHlJ7mUyTc/Ju7JY3NxjXAbUTsKYCtxjOD0ifDajOn+xLa33NTAWN82YEp/nOLhOUV1arEMrNabbBl3OhoLvoFuR0ar38Lb7momGaXDYGueC3z5yhypsqZ89Tb8S/wKidI5UyIN/38sKflz5fsKyd7Xcvks7KG4H88dvlqhkqEPbWu0ee7j8rUyvm+IJSfaHllu15Oa0qd9pl8UNWHbReVaog9Wyflw/fc2xQzk+dZi6k4il0vQBg4prcwbTJke2XeQ02aJwwD+w1y4IN3SKL2mywe6QoreGa+2BkuIvbYr+7U7cmj8qKzaPylupeqbcjimKeVKbnrxTfjwZluLzSvvmjQDqVQQXA+ta4ab01t7mdwDifoPj5XTZYNS24eT7AWID4ud350w9iph6qzJAKU3ROjneqJT3PZX9kmkydWiWLvWk3BNIqsjIXUqmLItP50lwKpi9w7P5h5h27tR0AUEqTv2X63gVewNg+VCdtEyWgdtM5VNdyuFIaixRQF6NlesPuVJrHT24pZkDdL4MlevlJwCcqpXx4MONbP/LynV229damdqhgx+SLqsA4/i14H9M6LDL10rEJPYOth04gWgw6B7dGt9Ka1mzdZU4vKIVUS7rb5ZGna7dfYPrYOdv+dbZdzPz1WMz+5sy375wK+gmoAeCCu6je5tEfEal5aQKPHwk8qDiemLSEMNO6eoPcmudr3gptmQ778U/tB5+PXun8q/OrV1Q7n+PZIQNDyVI38rFmVqXI0ECR03Z8qR3n3i0geNKpAiqe870ZREW8NmC63bz5I2Y7aQ49cnzovEydVZPKY76jRqqmhlMXCnD+nBdAm9fr2c+l5axX4vxsnY4ytUo+neTOQO9xGTw/Q2rsKxIT6X1X7UnxUjnOvjcOX+0HABehSR1Mh1th2/TDiN7bH3bIss2+VIplalzR3gmt3xjhLlMF6Nc0Ost42W1b1m+ccMbrN3qU2zKcei4V2Jvvu515GDH0gOFjy2TrYZG6Te73ipcKko1+k4dO73A7/TCiflOH67ZvT5E5n3PGbfiI84BhPpp7+1V9NOa/Ll6d6T/cUm7rJeqd0mvk1ppy6e8t4uOa5va+Y2GeTbu6BddLCTCd8/Cbl7v61PdlQNy0g2vl3NHo9zInoV+TZh7Oc5d9/TRf3mthnDzlVLrEte8NBFqmvfX2pcWkHm7UDwE605kUixk1zndjBqlp66U7rwU317x1Drvz0KE3reripez0yNOPOg8d+qfNL2VHLd+fyuF753h4XzEPWcZt9bbpSE7Ky1SpWhKcd0ldyGUDwBjgLyBinHFeXXdDX8TrAosh46v3AAAAsuMvIGICcO8YfLX4f6kw0V9WBAAAyIxgOoFMD/E5XYn+XPXFpER/qXDnH9TJ4J5Mf8wFAAAgf6R5AAAAADGQ5gEAAAAUEcE0AAAAkBDBNAAAAJAQwTQAAACQEME0AAAAkBDBNAAAAJAQwTQAAACQEME0AAAAkBDBNAAAAJAQwTQAAACQEME08rLmuVMyMjLidC/vtEND7uuSU9nGjwVThiMStwSbmkblrc1O90q9HVgKjx+RkVNdssb25uTWpemi1menHMljPRHfwpX3y4YNG2y3Wm63wwtx+2p3fhvk/pUL7VAAwERGMI287LjzaikrK5OWw8N2SHHtfHlETj0XO9TMaOcf1Ikcbpdm25/Lht1TZO6DU6TjmB1QCjowbqiU7s3LZIcdlNNjy+RqVd9lG7olusabpf1wpTTmE6Dn447VsmG1E0bqQDBuAOgEjb4AtPYeuX8iBZCqvJ+eJTJwcJNs2qS7XfK8HVWI53c58+s7awcAACY8gmkUnxsA3hQ3lC22nbLwmn7Zd2fskHUMrJGuB3WAv1WWPWYHFYm+wGkfqpOvFuEiJMr591KR37l3e+ynbBbKZdPOy/nz0+SyWjukulLN6LzTMxF8ZJpMPT8ox3ttPwAAGUziYNq5/d1l0xJOPbdTuk7pW+WnpOs++xUd4JhhtktLS9DzyDBe365X/f60h2K0qMYVSLdQ3ZHH7QhTZv86qiFea69eXzXuOVV2PZ0qvx4XnL4w7vx0F1UfmcrtDm+8RqR8UVvqOwlSRdY8t1zmvdkTu1U6FhUUumkguvvLq+xwpaneSQ3xp4q8YINIz+ONUifdsjUtwLdpGv50jgStzM1/3i2yqFHNrVhul9U6HeH6GTJ11mKTllAzQ2TG9WrY/feocDm3waFzUlmtv7lQ5lw6KG8MiUy9VM3Eyp5GsVDuud8dF1qmbS33T59fi7ddt6h5Wwsvm2Y/5UOX+X65p9Y//+KkhwAAxq9J3jI9T+oq90nZnn4VoDVKZVeZtL9ZLjd81glVdr7cJnVD7SZtoaysRborGgMB4M6XF0qPGae7dum/pjEYdKr+Nj1/Pd4uY0xyV1Xg9dVFg9Lula1MFtxrx+VULnU1g9Ki0wZU+ZcPtpiUjXm1xSl5801OedrftAP8spTbTR/R0w0fbvHG59+6vVMaF4l0/3kRQ2kVOL/yuVF5aaeTCjL321PkZjX7TXa0VnbLqNz2E2f8phdF5nxGBdl2nLazdp4M9+3PkN4xTxo3Vco+s85qPyuvk8Z8L24e2y+vDs+ThUW6KBJ5XnbZdISzR3VqQp+clfNO2sOjT0uc9mk5dlrOVcyRhbVzZNp7x9X0PiogXjzrnPSZFIpNcujkNKnxBbULV9aI/IMzbtOmQzIgVfJpf8A8o0YWX/qGM/7oWRXw18QMWnXAWyPTTh4KzHuxL5VFB8GLZ01Vkb8aboPi+MH6VKlacq2cM+khat7nZ8i1EyW1BQCQyCQPpodTQdVwt7QHAk4nFaDdC9Z2yLIuFRDX3Oq1CjbftMDXutksPSrQq5zlazNU82xxp7+3R/qlUqp8LcIZBR4q83V5tcImD5z6u9yc3QuRClHMgC/C4wtl3vCrsr+IqRRNN46KvDhFfu+0HdAr8tJPR+VGf+vzsSlyY6fzcfcrU2TkcpG5Tq+yRqoqRAZPZqprtZ9ucPe1iP0slh0yMJRkuphqL5Npck7ejZX2MEOmqVhUB+Snz1VKzQ1qymPB8Pv2mTNUkJ7KQ+556g05O7VS5tg67XlqlzztLatHjg+dD7Rqy/kBObTLTv2d0ypQT6WUZHVHjVRNPStvPOWWp0ee/ocBOT/jKhOMuznNh06ed5ZhAu5N8qj3/dzOHn3Ulj2i3ACASefizZm+r0qFvvOk0R/MNsyzIy2dyuEbr1MQisLNKQ53cVth9fR7+mVegy1bqR4+K7aSl3uNdC2b57tYKI65H3Fanv1pHjerYDm+eVJZbj+WUP/gsJRXhvbhpHQqxQZfaseSKpmqguQaNWz1HfY7MTx/5pzMmHbO5B73vHvODtU51Xa+tuV3w4YaNXcf+8CiO960FBfL+XPBVnIAAApwkT+A2B9IOTDd1TYQM29eUIHZntS4yNSFJIrRMn3vglS5huqkbaIE1KUs9323yg3l/dITO+UlvpEXbYqHr7stViut1i8qzi25eSpiHx7st30F+s4uCaR2HFXhp22p3fUd+52sbCu2no8/LWTaZV4qh5M+4u/cFt3bZbUK3sVLxbAtxcUydVowcNcPG9qPAADk6+INpm2OaWPWAHZYBn9kPz5+ZPy0TIfoFsmgcqn8hPNJP9hXtHIXWXq5beuqL9UmH/m+Di+uDT+cYlqm/Q8d5qfEKRhGrlSSpHypHefejZcrnZOT/jDj+uwP53lvDjGvqStSuGtSQvx5zAvlnnkz5PzJvqK8+g4AcPG5iFumd8iyq52HDv2tw94DiCrg3fdmudRtsuOWDUp3sVqmCxR+I0abfqjPbVFXoeQCXyqFfkCyaC3qOo3Cvv2kbVG5eQDTlMG7IEm9/cT/Vg63TrOX27Hjzq3SLXXS5n4vdmu9zoEfllf/Jlkw+YJN31hRnUrp8P54iwomnYcO/akewQcQc2nuTfaAqldnm+rUJZKblhTxR1pK0Spv8qQdeb3dwjddJj1PPeo8dOhL5Ui9VeN56Tupg207fMk0dZFQrJZp/WBln5yzbyjZsGGxVJ3ryysnOrnUWz50+oz7lhT+eAsATGxTRhX7Oc2NN94ob731lu0Dxi8ddJo3qyRs3S89fSHSJjf0tcjVJXjoU7+SUL+ZpRTzBgAAjrlz58orr7xi+xwXec40Jgvzar1xG0hrO2TZZv0u6K8G3gFeDCaVpyLqHdYAAKDUCKbh8f/BlfQuIrUA+TFvMxmUugeL+bCofq92eroMAAAYG6R5AAAAADGQ5gEAAAAUEcE0AAAAkBDBNAAAAJAQwTQAAACQEME0AAAAkBDBNAAAAJAQwTQAAACQEME0AAAAkBDBNAAAAJAQwTQAAACQEME0AAAAkBDBNAAAAJAQwTQAAACQEME0AAAAkBDBNAAAAJAQwTQAAACQEME0AAAAkBDBNAAAAJAQwTQAAACQEME0AAAAkBDBNAAAAJAQwTQAAACQEME0AAAAkBDBNAAAAJAQwTQAAACQEME0AAAAkBDBNAAAAJAQwTQAAACQEME0AAAAkBDBNAAAAJAQwTQAAACQEME0AAAAkBDBNAAAAJAQwTQAAACQ0JRRxX5Oc+ONN8pbb71l+4DJYqccGVkugxuulmWP2UFx3Nclp/5gQK6+qdkOCHn8iJya1S5X37nDDiimNfLrm78o5bbv/RcflqHO/bZv/PpA/X6Zdcs0Gf72LfLPvXZgqenttKnO1lW/tJctkOAW09t/ofSkDUdOd6yWDdfPsD3nZeDgo/L0WG3XSWrhyvtl8ayptu+s9G3aJc/bvqRuX71BauxmOn/ykDz6VI/TcxFw1n2M983ae+T+JVXibMXibEOMX3PnzpVXXnnF9jlomcZFZo10nWqUysNb4wfSOjg71SVrHhuQQX+/GamoIHrk5Z0iPxp0xrv9rg/eJN+f0yxHbffMh+zwPExtUoH0sW/KPz14i+kmQiB9wTy2TK4uK5OyDd0ybAcFNUv74Upp9G/DYtIB5+rbzUf9w37/yoXmcxw6sNqwYUOqu/8eiT91qd0uq1UgffboJtm0SXcE0gVTQdinZ4kK/Nw6LU4Q9vwuZ359Z+2A8UQfH+Nqvy6C3qflUb39Dg6oS0xcjAimcVFZ89xXpU66ZWs+rcc6ONss8tWRRpl3TaOMbKqUfVcvE28O9y6Qst6FanidzFvUJiPLBqXFa72+XB77yDx5dWCnXH9cdWeOy7UzV8pjH7SjY7lV/o8rRIZ/WIoW79L6VeetJvgfs1bpmHbcebW0D9XJV58rSTgt599LRTHn3o3ZKqiCjMWzzkmfCaps9+jTMm7aFGsvk2lyVk5/x/ajcB+ZJlPPD8pxLkqKxrmQ4EIPY2vSp3msee6UtC1yb46L9O8pkwX36k+6hbJNKrvcfvvdyn1SpgIh/fmr8qoMLlIBkr5VvEeksWGeyJvtZnxuzvzrvEWHbzfrW80qOLN9mlc23bKpAzIvYEtPSwiu17B0e+NS69VTOyKN14THK3r+el2M0Dglc52V3l8+MCo3X257ZIp0PCiywfa9sHlUfrxzivzeaad/U9Oo3PaTKXJjpzOdvD5Fbr5F/XtMTSejsqJa5Pi3p8ht3kk1U3qHve2/YVCWu+kBw92++lf8qQPhcZq/TrPuI3PkmTmfFTmzU37n53ZQTk6Kh0SmSgTTP+SnL8nJLevkV6bnVpn+wMNyyd/fIu998kW5UtWHCu3knZ23yr/YOszGOQa2yr7KNrsf5bMv+MuVvkyd/nGFfF3e/cjDtlyqWmOngsTYXprZZurCJ1M6R67xebtdVm+oETcJIuD8gBzKERib29PSJ5t2RbdNmnSAS99IjTe3lqfJG7o1U7f2zTwnA9OqpGrqeRk4OiiV11epQC33cl3+1IDIFA6T4iHJbmGbaVM1E0w9WCj33L9Yldv2Kqnxuk6vlXO+suhyXvueb/rQvHXL+S434Nfj5p2TQ/8g8mn3NvxZfx2Hlh0Yp2Qtdy6h/SFiW5htWjEYexul5Ci3lVZXrsB6+be1LvNVcu7kNKmaNVWtb58MVtQ4+5T3nSzL1vOdeVoOvXetl7ri1VkgFcLPnxYR3hfySJnImmqh5/tpkX94Q6YtcbdJHvPOtl5+/mPSDsLkc/Gleagfy68uGlRBbJmU2S6foLB80Q0q8GqR7uF50qiDW33b+JqF6qc8N9MCOqSCKm/Z/h9sN9WgxY7Ty7Cj4lDr1aiCHHfeLYdF6h4M3rKe1zAiywed+be/WS51f2BLrQOIhkoVQNty7RmUuk1HUutUYJ0VoqleBdLvTJG5D7pdKpCO4+b5KsBWwfZItRNkb3pRha6ftCO1xxfKvOFXZX8gkHapbWwCK73O7dJfXieNj9tRus5UWbbq4TpQ1q3U4TSP2h6TVtCvt6lupfaneSR11SNSsflF+Q0blJZ/Tn/W3V/YHwwdLH9RLnnxYZv+8bC8IzfLrKZga6ue7rKfON95+9g0ueK2+K2x5YvavP2o5fCwzFsWNzVih/yzKdM3M6RaiHz4loe9cp188ZyUf+YR+YAdl1uW7RXXY/vlVXVsL8x3uoyel1321rqTCtGnfq51EBKvhfn5M2rCGTVeikjeZlTJtH69/KlSdb3+QVfLn1opc2rt+Cx0UFczTQV7tkX80EmRqiWrVWjljDMpJyb4miE1bgpK7HLq9JBpvlSGTYEg5PbVKng6pwIyOy6/1AQ1bxXkuNNuOnpWZlzvlNsztUoWmwBHjde34WdcK/fYOgku+5C6GKnxpeVkL3d2OnirkWkq4PLmLaocvvQfXYcmMNPls3UaNyUoe7lz0AGff72OnvO2tWOGVOmLNlWXU2epdbD7VGW1M/+cy1b7sLnoM/N25mHm7aZCqGHmwsJMr7tU4Llw5acD+0JeaS85Uy3UcbFEX5jp+apyn58h1+aRgpVxvQDlIkjzKODH8s19Xgtmf1eo1SuOTIH34435pxr4PbZMFvim3fE3r8pweWWglVu3jroPwjX39otUVJkgaM1nbxDx5wvf224uFoJ1lLDOdNA5MiIj4S6fwLJaBcT2Y76O/73IbvNpirzQaT4ErJlVKTI0kGE76hZ694KnWXreFKmcZcNGneahWz3vqxI1h1S/GanoNA/dEv2JSme82x9h3YzPyrXv/0D+Ik6r9Ol1MuQLSHXLrRM0/77zY6F+FK+4/E1518uf3i//8tRL8n71bwVbf45908uxPv9DtWJXzI4ftPr2o8j9rBC+cv3qlR/K+5fPkPjZL1m2V2w7ZGAoyXQxmbSIc/JurNZ25Tu71A+1CoB1QG2Cq1BQmIsKUPq+Yz+e7MujZex2qVFB3dn+VMDf89T3TbBx1R3686NeAOG05ulgRHURLaGZpYKxALUPXztDzTOvefmpCxj/tN85rUo4TS4LXEDoCxoblPUel8HzU2XaR3TP7XJVYNk98nS/CpIq5qhQ2JWh3LncoVtzz8obXvCt5v0POpC/ymxTN6f50El1JPsCy3jBepxyZ7awWp2lTn4/ddfhO33etnao+nrVztu3TzliLFuvjzs+cnvkYOuoFM4edVvXe+T40HmZemnqrkNOha4XJrXJHUzroGdPv2mlNUFdqR44imByMt+cJ402oDxV1NxM3bJt10l33psLUvp7fcGcDu5s8Devsty0NnrTjvhTUZRC6kxPa1uzA12stBgVCHdOkY5jo7Ji86i8pbpX6u2IItHrXhC9ftnWRdVztjd53D59pXzpsuPy5P98OY9AJ4efnpVf2o+ZBHKte39f/slLA0H/4LCUVxbp8kDfClZBsE6VmHG9CobNLWenJXe1F6jk4rRu68Cq76ye9n6vFbW0zsu5n9iPRafW6eCAyKzFyS4ScnBbeZ0uIs0mkJOsgr9HbRqIudjxtbTrzpfSUXC5z59TAVcJ5Cx3djMunSpTvXXSnT+tIocCl52LvnBz9ntn3vk8vAtcSJO/ZVoHkjao0w8ctY1hQN18kxtQtsugCmCLFVDvfFkFwNItLW6wmvGtBdGGvfSSVBdI5UhaZ0Vomd6wO5Xm8ZNbihtQ68DpQtGB9OaPinxv4G/kETusKMKtuVfOkA/bj8hNX2AND/bbvgK5LcumJVQFxL7b2V4Obx6e36Xn5baillp4OTNkWtwAKw73FrzqDp2cpoKl4gTUJj1Ft5TaeTv1nw//tLbzp+QUUu6pOuz00Q8b2o+Fy1HuHHS+b2Ba1cXfRwtbdi5uq73eludU0E9AjYngonqbR1Qw5d3iffxI4KG74uqXwKJ/NCjD5TfIrfc5vSY4Di/au53u5FentZ156Qpq/IPpLdOZ6JSP8kVflS677FzyCkALbJkO+/FP7Qefj17p/Kvzq/UDhvnYcXLQS3cZS6lA+im5L1czcj56/x91EXWNXFZ/qx1wq0z/zDXy/otPO2kgyGGNVFWIDJ7MfDchGV9qx7l3kwcZd1ylgrFQi/G0y+zt9NtldeTDXEk8L6dVBDpjXup1ZQtXXisz0m7xF0fPu+fsJ6X3XVVbqRQDJzh2PqekAv3I8b4W4NtXZ3gANIpJ+ZghNTFzvwPlzsWkAfhzchfKPfPU1swr/SaDPMsdpnPzp876dLI7HgUu2/jJOTkfK5f/rJzjRIYJYlIH0/ptBP4W0jb9YJ2X67pDlm3uFnFTHpapcYeL1XIZSsPQqRRDvj/moYLOrfqhwU3O+OWDOm/ZGWXcu8CXIqLfzNGuwvGU5j/XD0I2evOu7MujZVq3OpuHDt2y6S71AGL2Oist/UYOnd7hdvphRP2mDtdt354icz7njNvwEZ0SYkfEdW9PsgfVCjJHfv+j+vUkl8tvV6XeNX30YzcVoWVOP+T3TfnFLQ/bBxMfliveSeUhX1C1f2HLpB+enCZXNOvP+2X6VXZ8CXn7sEl/co8j30O2rvtulRvK+6WnmA/YmtvgjoWXuZ/i0A+s+W6dm9vn+iGx1FssTB6zfojNjL9Wzh0t3jttdWtg37nUg3DmFX3Fam206S/B9XIfLHtedh3VDw3a5V76RugBxOzje556Q876HuC79r0BL7DOTad8OA/QeWVTndcSmrXcueh0Hadl1ZneeWgv/gOM2eQot77QssP0hYeb0uGN13dQzEOHqWnjp7DkWnYMvU/L980DruFlh4+B/OrMe1DWl15V7JSiTC7ksjE+8BcQxwUdfAdf04fSMK/9q3k1/TVquOjsfNl5401p/mIlksr4OjcAGAf4C4i46O24c6t0S+n+WAcmBn1R1VhRwBt1AACwCKYTCKdCBLtTsfORcSHskGVX6wdC4+eNY7LZKY1jmL4EAJjcSPMAAAAAYiDNAwAAACgigmkAAAAgIYJpAAAAICGCaQAAACAhgmkAAAAgIYJpAAAAICGCaQAAACAhgmkAAAAgIYJpAAAAICGCaQAAACAh/pw4gFh2vjwiywdb5Oo7d9gh2b2weVTm2M8v7Zwiv3fa9hTVGuk61SaVXWWy4F47KIc1z52StkXlTs+b7VJ2U7Pz2XVfl5x6UGTr1csk3poinoVyz/2LpWqq7T3bJ5t2PW97kMgdq2XD9TNsz3kZOPioPN1re5OqvUfuX1IlzmY6K32bdglbCUiJ+nPiBNMActMB5qZK2Ve2QEKhZ046qP5xiYJpHeA3SkRAHIMJqiv3RU5byHyz0wHlp0X+QQU9ooOWafJGrGDFBqIyIIcefVp69CAbSJ09ukl2fcd8aVxbuPJ+WVwxmCo/CnS7rN5QI1Kq7W+C6rj7J3DxiAqmSfMAkNOaz94gcrg970C6pB4/Io3X9Et70QNekeabWqS7olGOPG4HFNU5eddtPTx/Ts7aj9nNkGlTz8t5maY+OW6fOU3On7c9E8CMS6fK+aHjBNLFUnuZ2hvOyukJcCEFTHaTOJjeKUdGjkjXc6dkZGRETj23U7pOjajPp6TrPvsVc4tYD7PdyzvtcJeeR4bx6odc9+vWLXf8qefW2JFxhOZ9qkuVxkfP3z9erYu7dLNMf1l0q6FvfNZye9/1fSe0bP86+ZfrCNVZ2vhSylJnur4C66G/625r/TnXvpBDaHuEt3WwzlTnlcWpL39Qlrb9wusV3s/0vMx2ixgf3h6BcVqWOottpzQuEnn1b4qb9NBUPypvbXY7kU12uPaXD4zKX17ltGpHjTfrvWye9O9JbynX9au3j25ddtc7/6B4hyzr6pd5y5LUVzTdMrthg05zmCE1GzbIBn0rfWqVLFafV99hv5TVORkcmiZXme/eLlfJG/LGOZFply00Y53WazVfPW/drb7dDrd0S7Y7LrRMXbb7Vy6U21dHj89Jt2L65p22bFW2y6bZj3nTLbC+ed9/j5qbT2i9NmxYraZwmDr3l8WUMzU+bd6R3/V9J7RsZ5u60/vnq4W2R9r47PzbYsOG++WeWjvC9ZFpNhUjT7q+1Hr6y663PYDkJnnL9Dyp07dx9/RL+aJGk1fZ/ma53PBZ5+dx58ttUjfULmVlZapzWqL8QdLOlxdKjxmnu3bpvybUUqX6zW1iPd4uI25gufNlVZ7DLXbeqvPnZ+rAqaFSujfYcRu6ZdiOiiNnuVW9NI4sl0EzfzW+vE4a3fEqeGtbNCjtdvqWw5XS6AvA1jz3VV+d6S7/2/5JZa2znLLvC9mpgNS/PVQXyBsO1ZleRj5ybi+1fdpMioUar/eFa5Z7FwG59+FC6syx5rnlMu/NfbLsMTugGFRgsOGWKdLx4BSZq7pNL47KigdUgG1Hazc3O+khevxLPx2V2+rtCO2+W+WG8n7pyZAnXb6ozeR363VuOTycLCi+t0cdGzfIrXEvuHLoeepR2XRwQM6fH5BDmzbJoZPnnbxh9Tnubfp3jw3KtJkqJLtDXWmcCd58v321CtTPOfPbtOmQDEyr8QVJKiCcedqOU93RszLj+mBwN3XWYrn2vUNmvC7bjHmhoDUjNW91YXDuqJ33pj45O8NdthuIOrnSehkZg8MMbl9dI9NOOuUynT9NRAe810+TgYN2nK5fOyqO21dfJafd+dpyBy8i9IXPtXLOzF+NVxc/Ne54FZQunnVO+uz0h05OkxpfsL1w5ad920N38dMldKBbM83ZT5x5i1QtcbaXFwSbXGl7Yaa7tAuYLNR6Lr70Dadcal+YOqsmsC8AyM8kD6aHpfvPbag33C3tgR/enbIwcIvYaYkqr7nV+9FtvskfKDZLz5silbN8P8lqni3u9PqHVyqlKo8fXv+y/Hb+QZ3I4a2Jg5ec5Vb691xt5x8cv7M22Nq348596QHFNQtjXzT4+VsKU10ercNKpjrLLdu+EEemwDtzC2lcubeXKvsG+53H9surw+VS+Qndk3sf1pLXmbZGbq0pl/7epGsXbdMnR+X4t1VAbft3d06R45ePyr9RMaLr+LdTedbffV2k7CPOZ+MTlVI+PKiOuQzebPcueHb8zasyXF6pLqfy1S+DXl0Xn0l7eC9ekodzS1/pPS6D065SgbGEbu/fLlfNOCt93gN9PfJ0vwqSKubY4O552eV/2O87p+WsmuNl/oBWBfaPPuWEqT0qaD8/NZVSks3CldfKDHWB0OeVRy1LB2hm2eqzCQhVcK+i3PNeUJzfg3Kp9Qi6/YYqkZPfT/zQ3fO7/AHu83JabY5US7/j7FG3rMHxt8/U+eqp6XueekMF25Uyx1+nM65KEKTeLjWzpsrZ/tRFQ89T31f1N8PclTAXZTYIdh4QdALuvB7m1Bd07vej9gUAebl4c6bvq1Khr26h9QV2DaGf29Ct/cZr7PAiMDmZUidtdt7534bOIme5gy16zTe5La1rpKpCZF5DatqRkcZAELLjzqul/c1UveWT2qKX47WQep0b1OdW0jrLqlkWbOgWWdRm66TIqS25ttfwq7LfqyMVMF9t31wRYx8uuM4eb1RTJ7n4yO6qK0TmfM6f5pF680cca2ZV2k+ltEMGhtIvRJOxt/x9qR01KlI1LbXhtIWseuT4kA5yT5sg7ux7th3WBNu+VkrdeW95cATTBmpiBcqxnXu3ZLnQz+9Sgbg4dabLnlf6SS6hFBG9TYKCOcnP79pkLzictJUZ16emDdepDnr7zqa2SX6pFOfl3E/sRwDj3kX+AGJ/6ta827m3wU2qhW5xTI1rf9NMVCROUGTmrQK1ShXAFiU4LEK5/dM6XTDgTQXF7TKoAsy4AXXhLdMlqrM4HlsmV9v6MKkvxQqoC95eWfZho7A603cqhvv2++ZXPLrlWadw+Lu4b/zYcXLQfiol5+Jy8GQx1r5Hnn7Un9rhtNTqN3EE0haysQ8rmpZJXyvk1EvdEM7XSul2dt4mbUC3XHvj+sy8imbaZYELgoXJE6QjOHVnyn1wQKapALYoAbVJEXHehuLWV1+eleKf1umCLe46+HaG98k5deEUP6CeKtP8d2JUmD4tUYI0gLFw8QbT5nb5PGlMe2DLb1gGf2Q/Pq7fHGA/F9tjA+IPDfoHh3235nfKkU11Yt+Km1JRlWV80nLvkP19wzKvIW6gqG+D248xFNoyHRCqM8O7la8fygu2qBdTMJBzWi/n1doas8FxmNe6qbaH945jT8LtFWsf9omqs2zUuiy/pl/2xXyvdD502sacz4UfKszDjwYTpm7kY55Ulvu2TZGkUjuK2Pqo0z/Oz5CabHmzvjeH6DzkYrVMOykhvlziiDSFoul9V87Zj5pumU+lgDi522kxpxfoR433bYM7Vke0TGei7xCcT8s7z+ysnIudzO2kk/hz1tNTaQCMJxdxy7RusXMe2PK3lHqtrI8tk31vlkvdJjtu2aB0F61lOvSGhRHnITH3j07suHOr79b8chncE3wAMev4Asut0zicllc7ve5Cb6ZIldt5+C3uH/EoTPY6k3sX+NJP9B/xaFehfpGE0jBGzMOIqTzn5puchwbNOP2gYOABRLWfbfaliKjt0X7YtzUL2l459uFcdZaDfh1e+Zs9vnzuPNRKIH1DP0yoP+s3dGg6R9o8dGi/Y7rQA4hZ2QuJ5XmkGTlS+7C5qHG3W9QFyeMLZV4gxaZwOk/afsqvpTHnmxt06+0h89BhKu0glVrg5POmUiWufW+geC3TvU/Lo7bF2Fmu88Bgcd597D7AGD1vk0vspYBcK+eOBh9AzDpelfuNs1Olaomd97xzMpBHpeg7BOahQ69sqvNSdsJv8nAeDnVz0nPRLdp951LbyzzoOEbv5/YecDQXHm6aSn5vIgEuNvzRlolAt3Ym/IMZuAB08K2C4pYEb84YP3Qgrt/4kvDOwVjQ9dwg0l6S40IH3fn9ZUWMAzp1gz80AqCE+KMtAGJqlgVJU3DGins3Im6aSx7cVw4SSAMAciGYLrrwrfVQV4IffhRAt/pHbSfb5fO2Eoy9kvylQp0rXuF77SUAAFmQ5gEAAADEQJoHAAAAUEQE0wAAAEBCBNMAAABAQgTTAAAAQEIE0wAAAEBCBNMAAABAQgTTAAAAQEIE0wAAAEBCBNMAAABAQgTTAAAAQEIE0wAAAEBCBNMAAABAQgTTAAAAQEIE0wAAAEBCBNMAAABAQgTTAAAAQEIE0wAAAEBCBNMAAABAQgTTAAAAQEIE0wAAAEBCBNMAAABAQgTTAAAAQEIE0wAAAEBCBNMAAABAQgTTAAAAQEIE0wAAAEBCBNMAAABAQgTTAAAAQEIE0wAAAEBCBNMAAABAQgTTAAAAQEIE0wAAAEBCBNMAAABAQgTTAAAAQEIE0wAAAEBCBNNZ3SrTH3hRfr3W9gIAAAA+BNMAAABAQpM7mK79C/mNBx6RD1z1iFRsflF+Q3dNa+xIzWl5NsND46Y26WEPyxWXi5R/LvWdivpbnS+483b6lDXy65v3y/SrnD49vf7uB+r3e9OmWrj1d/9CpvrLFZhXNjvlyMgR6XrulIyMjMip53ZK16kR9fmUdN1nv6Lm7wyz3cs77XDr8SOpcao78rgdrqxR8z313BrZ+XL0+Nx0+VLTjpzqUqVJ0fP3xgXGO2UOlyVY9tC8/ePu65JTql52+r+Tddn6u37Zyw0AABBl8rdMX36zzGqeIe8+eIv8086X5P3qZb6AVwXL73xT/kmPe/BheeeKL3rB8vnddthPRYa/rT873VDnfjM+jg/f8rDM+kiXme7ki+ek/DP+gPkaudIt14PflGFVzvLY6STzpK5yn5Tt6ZfyRY1S2VUm7W+Wyw2fdcK/nS+3Sd1Qu5SVlamuRborGk2A7FBBY22PHac6NY95DcHAsnxRmywfbDHjWw4Py7xl8QPLnS+r8hx2pjXd1ctkhx2ng/i2RYPS7lt2Pna+vFB63GnL2qX/msZQoD9PGkeWy+AGO768Thrd8aFltxyulEZfwJy13AAAABlcBGke5+Sdnb8v5/XH0y/I+z+dJpdcqXvWyKXVb8rbu92Qab/8y9+/KR+ef1vMFuIYfvqSnLTz/9UrP5T3L58hHzR9mq9cKmx775jIJZW21TunYen+82b7sVva73U+OnbKwmv6pf0mO17Ne1mXCrprbrWBY7Ms8MYp9/ZIv1RKldeqrbzZLlff6ZR7x9+8KsPllSpMjS+1LL810rVsnvTvWaBKkEzzTf5pm6XnTZHKWcEl9e+5WpY9pj8Fx++sDS57x537VLB9g9zqW+/ocgMAAGQ2+YPpn6og9rT9rAPmLbfIP/eqj1fNlkt067CbZqG7z13jfK1I3n/9BfmV/Syn18nQg27wXEL3VanQWLfQ+lIWGoKhsD+FY2SkMa9AOZfmm1qkW+qkzc4/vxSRHELpKY1pm6tfenwXFs03ldmLgjVSVSEyryE1bXi9S1puAAAwaV3kDyC+KW/b9A2v27IuFQBPWP2pVIpQ2oLOG27ULdfeuHb17WLaIcuutvPe0C2VKoAtSmCqc6LVRUH/HrfcOrXFjovJP63Tua3YWonKDQAAJrWLN5g2KR/XyJWBBxLD9sv/ekek/JMZvuOlbegHGb8o5ebzBfbYfnl1eJ40hh869Bse9AJonStczJbpgMcGZNB+1MHqwJDIvFpbLhsch3lpGybHOVyjwzL4I/tRjU9vmc5kh+zvG07LDc8oUG4AAIDMLuKWaZ3y4Tx06KV5qM57W4d1fvc3Zbg69R1vfO/vy9vH3DSRh+WSv1ffc8ZcYLqF1XnoMJXSoN/64QSpTq5wKp1h+WB3EVumQ2/EGHEe6ltgUy+ab3IeGjTjNlXKvsADiKrcm7tFFrU545cNSvthX40+tkz2vVkudZvsvNX47jxapnfcebXz0KFXNtV5DyBmLzcAAEAmU0YV+znNjTfeKG+99ZbtA4pM50CroLiFN2cAAIAJYO7cufLKK6/YPsdFnjMNAAAAJEcwjZjCqRChLluONgAAwCRFmgcAAAAQA2keAAAAQBERTAMAAAAJEUwDAAAACRFMAwAAAAkRTAMAAAAJEUwDAAAACRFMAwAAAAkRTAMAAAAJEUwDAAAACRFMAwAAAAkRTAMAAAAJEUwDAAAACRFMAwAAAAkRTAMAAAAJEUwDAAAACWUNpi+55BL5wAc+YPsAAACAi5OOiXVsHJY1mJ47d65MnTrV9gEAAAAXJx0T69g4LGswfdttt8lll11m+wAAAICL0+WXX25i47CswXRjY6P81m/9llxxxRV2CAAAAHBx0bHwjTfeaGLjsCmjiv0c6fTp0/LAAw/I0aNH5ac//am8//778stf/tKOBQAAACYfnR/9a7/2a6ZF+vrrr5ctW7bIVVddZcem5AymXe3t7fLCCy/IW2+9Jb/4xS/sUAAAAGDy0cG0zpHWqR1RLdKu2ME0AAAAgCDeMw0AAAAkRDANAAAAJEQwDQAAACREMA0AAAAkRDANAAAAJEQwDQAAACREMA0AAAAkRDANAAAAJEQwDQAAACREMA0AAAAkRDANAAAAJEQwDQAAACREMA0AAAAkRDANAAAAJEQwDQAAACREMA0AAAAkRDANAAAAJEQwDQAAACREMA0AAAAkRDANAAAAJEQwDQAAACREMA0AAAAkRDANAAAAJEQwDQAAACREMA0AAAAkRDANAAAAJEQwDQAAACR04YLpMx3SUNYgHWdsf6Qh6fhSmZRt6bX9+Shk2kngyDYpK9sm42nte7eo7fGlDrVlAAAAJoccwXSvbCsrk21HbC8AAAAAzxi1TCcNyitkxZMjMvJAre3PRyHTohRqH1Db48kVassAAABMDuRMAwAAAAnlGUw7ecgNe4ec/Ncy22XLgzW5u0ulVX1sXeJ8P9hC7bRau/PS805JLc8VWK7qMrd2h6Z1c7SP6H/d6W1OsSljaJjLy+22Odju9wK52O6yer3vpMoVXL+yQJ54+vo5wi35oXlE1HewXnLkSmfKVw/nWZvv+ebrX+e0+nSnC9WTbzmmjKEc9qG9Db7vpo/3yhQqi3+7k4sNAAAulEQt052rqqV78YiMjOjugGx8tknWpQWE1oL1znfUx40HnWnWL3BGqTlJ0/xuqTPzUd3BjWre6zI+lKgDr6Wv7ZZjvu/nRy1vp8gjZvpjsvuuVlmqg7Ods+087bC0hxZ1OdeJfM0uV69P29K0wK9z1XbvO2YdTQC4VPqeOGanU93BGjUvNxiskEXL6qWz63AgEBzau11a79otjaaedCC9VMTWne4OXNck1b7gUQeTgXp5fbZsX9Jqx0aYuUiW39Up+14KLFU6drZK/RONYhJjdNnn75Plr7vLVXXzWnid/fW53kzXu6Vamq47YKcZkWNP1DhfjaDLXb2qRg7Y73rLSAuM1TZ5yF2Onme9ujDLccEAAAAwBpKlebQc8AXEtdKogptwQBjXxoNOEGYsaFTBbDjISxk43ilyXVUq51YF6qlyxFEvu7/m5uxWyIpmHYxHDGvrTgvUNh7cIytm2h5V4vU6kA9/r2Wt7zsqWNzTJJ2qrvbc7csSVmU+0KLCw0POlBU3L5f6Z/fJYe8CYkgOd3VK/bJFpkwmsA7Ut1p6w+7UNCro3d7mXwdl5grZk/VCIyKIP3NY9j1bL8tvduaiyy5PPOJbn+i62djsz4EekoHXVI3OqbL9aqq71wfqxOOW+3Xf9tfL+Jpv3TzB9au4e626OGuVbts6TS42AAC4UBIF0/5gqTD1MvtK+zEGE0TqFuGoFIXEaqQqKtgLiCjnlbPV0D4Z8JUjWC9OYLlxcfoDkLWLVVD62oATyKrAd22L7wLCBLUbZa0NwM0FhFnnVIpD2XwVpJuxytsnpPOu5bIo5zoEmYDUF7QOvbRPBf7uxYBTdn0HIrDctNbucL04AbczXY6W40zlnum0mp942/YbcbYRAADA2JtYDyDqFld9q9+mShQ3qL5wdHDtthI7QW2dr7VWhaz+NBGv87eUJ1ErdV4Q77SGhwN/Ny0n2PlbkiOYtB6ditHnpNDkCqoBAAAmsIkVTLtMwKbzmzOnhJSaCXqztghXSNV1qXQOv95DraF0lTrbSpwe1FbNiZFCk5YWoco30Gc/ZeYF8bY1vM5LJclc9rgq7t6jtpHOlU+lYwTolv2IcrvpJvncsQAAALhQxiiYrpLZd4n0DRQW+PZuuVCtnPoBRN+yz3TIulWpvOZM3LSUwNs6jmyTpTpXuMHfvqvzzkX27WmXfeI+eOhwcqrDD3j2yjb3QUCbZ970kO+hPVu+nPS0aonte/aJuA8eWiYVRZU98LYUNd9tmR40NYakY0vMt2rY9JZAverpH9J55sHc81x4mwcAALhQxiiY9ufSZnudXS727Rumq5Z9y44FH+4rGRX8Hpwt291lz9cP58VYtk5LeX23iD/3eInIgYgUDR00S1urSDhAj5pH2XaZ7QXjqm6fPKaC4iapdsfrN1/EetOJfhBR1WqbeA8eenTrv5qH+zpD080/IXW51vk1XznsW0gyPSSqHxw80JK+TflDOwAAYKKYMqrYz4hyxn1FXKE5ygAAAJhsJmbONAAAADAOEEwDAAAACRFMAwAAAAmRMw0AAAAkRMs0AAAAkBDBNAAAAJAQwTQAAACQEME0AAAAkBDBNAAAAJAQwTQAAACQEME0AAAAkBDBNAAAAJAQwTQAAACQEME0AAAAkBDBNAAAAJAQwTQAAACQEME0AAAAkBDBNAAAAJAQwTQAAACQEME0AAAAkBDBNAAAAJAQwTQAAACQEME0AAAAkBDBNAAAAJAQwTQAAACQEME0AAAAkBDBNAAAAJAQwTQAAACQEME0AAAAkBDBNAAAAJAQwTQAAACQEME0AAAAkBDBNAAAAJAQwTQAAACQEME0AAAAkBDBdBEM/+MuaV7ySSkrK5OmZ4fsUGBy691SJmVbem2f7f9Sh4z5EXCmQxrKGqTjjO2fyI5sU+eRbZKq1QJNprpBEQ1Jx5fKpGEvv1cXpVjnBWcf8Z/jswn/HsRizneT4/w0voNpU9EZDvhs48aS2invq/uKtMttsvOv98jyGXa4ny1rUX8kx4I54HS5E+zsdtptR2y/T8aga0IdWPZEMx72wTyZ+tfbNd8THxDXRD3nlVIh59OxNpHKOklwXp7YaJku1Mk3pFP9s+Y//Bdp/Lf1Ur+owhnut2C9jBzcqD60ytILeqBEtUb0yjZ1AEcGhDNXyJ7Xd0u9WsOmh/JscZy5SJbfJdI3EJ6qV7rb1D/P7pPDoZP00ECfyF3LZdFMO2Bcq5AVTx6T3WodO1etu7A/OCZwCQYtQ3sbMgYytQ+MyIEW9aFtaeTFTlJ6viNPrlA1U0IR61o4WulSilQX4+acl845NmzgorroY8A5Lxb1Tksh59OxNpHKOkmU6rycnP6NU+f0B2ptfwno88TIHlkxIX7zsyOYLtDQmX7z72XTPmT+zUjtNMeeqDcHyoX50dY/ktXS9Gy9LL/ZH+7USqMqV+eq6ugDWJ9U9Y/is01SndePYoUsWqbm23U4eCI+0q1+XtVFx12dsu8l/5ghOdzVKfXLFpU2GCsqfbI5IBv1D878C9QCp4PLJa0iLXVqS6ZU3L1WlUsFMhmCgdoHnAuB1iW0PKFELvg5L1rF3XvUD/iIU7Zcnj0hA/ZjXG6wXtzz6QUwkco6SXBenrgKDqbXrVsnV155pen05wtp+KVd8pUvLJBq3aJQvUDu3tItw3acGiv9e1vk7k9VmxPdJ5c0y46XUmMjDfdL55ZmWXqD04JR/am75Svf6LXzdFpwqlfpdmm98+vvZD8A3JP4nrvHPlwc2rvOBNK7X0+/CtTl0lfEGQ9gc/UYcYWaJZVDq6iqSWuBNq3PLWtl7XUincd9P1NnDsu+UKDv3fYyXY6Tiw4q0wJHp3UpUD7v9rPtAj8StjXK7WK1StXKel03I+sDwezYUOU1gfSBiNYDVS7dspTxh9C2OsRuFQjVTcQ8gzlzbgtnr/lXT+NtB+8WcuZ5hVsP9XfM/PX66osEMzziAsbMO2JfydSibb6vLzL1HQbn3BAI/ML7S8yWyqjyO0L1GKeVPVMZ4u7zIeGyeeuboy7itegGXchzXmFKeFxnOp9GyrG/uPt16JhK2zah8Q17Y14i5FVWFC7f87IjeO7VnPNvcJjel8LnxuD+FbzojbpLZefrmya8rwXPEznOb2nn5fD8c/zujyMFBdM6eP5v/+2/yblz50ynP1+wgProDvn8bV+RV2d8WR55rku6Hv2yVL7zY/m5GflztbN9XhZsOCrzmh+Truf2yvob35CW2z4v2/7R+Uaa99RO9rkF0vDfB+Taf7dHTbNH1teel33rl8rn1Q76cymXRX/SJXseqDNfb3xULfO59bIoKmc6hsw/vvZA8e1wTr/eyezOvmWbPVFukw53PoEf2V5p10G/CmIzHaC1DfaW3p6su35+FtSZVtsTb9t+VSLd+rxxca3ULt4o0tadOojePqG+WSNVtnx6HZeKChLND5rqDtZI0/wCDyz9g7KkT11Q2HmO6FZllz6pLBU56I4bkQPXqUA0ZvAULfxDmCq/s73D/fbEZE8w28x21iezDm8+/hPX0N7tppV/d0OGH7qZK2StuW24vcATklM3fU8c8+rm2JztslSn6+TQuWq7yNecadYvUAP0Npi/T5Z72+CY7H5tadr+Xr2qRg7YZbnbyaSRmNSBjXZcRKAzU6cXhe96qHkeak1rvTd065suw10i9Xb93MDPbJPA/mL3iRw/EJnKrw3t7ZbZ/vm1ZL57oKWXQZVVXYgmp84Fx9d6yx9RF1zi3pXKURfVXcvlmG+6viXxAupM3H3e67x9wB434X5TT3HPeUmFf8zTt3XGctuANdjAEj2PuOLtL2rYQyKP2O/oFvfWJb5lmmOuSWp857a1x5eai6aChAJ0/3o6dVTY+S2bzPuOw/mN9HduWbLtW1Z4vfzjTNmdcqaW4d++of0nvK2y1Fkh0n5PTeOU+tc/zNwVTv3GqrOz+k3tljq7T+hza/aURV1X6mL7Ov/vsntms9qWyjp5xI7X5xK1b4a2TTa9W4LzP/ZEjR0zAYwW4GMf+9jo9OnTA50eVjS9W808V3YM2gE+oXGD315l+tc9/67pDzj+5Ojn1bj7On3jfvbd0YfUsOn/4bujP7OD/E785efV/OaOPnTIP/bd0X3/Tq/nytFnTjtDBjtWmuVu7XX6E7HrkmkePZv1MreO9gT6dRkGR59pdMf1jG7V67NZfcvML1XGtP4MwsspBjNPXSbt9DOjK71yOOV11zn9e+FyOOsauS9oeh0bn1Hf8gsuw6mH6PUz29FdvitQ3nzZbZNWJoez36TmHdiP7P6g1zX1PTs/r4zh/gzMOmSptxhMGSLWI7DNlGB/dPn0d9LK4t8uueo8ahuGp0nbF/R+kG07Ru1boX3Hk2m4le8+E16fQH+OZaWtpxaaJmd5wuueqS7S5xHe/nkx65lp3Zx1SM3b9pt1tfuVqSPf98z88qh3JXDMpfEvxydruR3Z51ugwP6hRK53cB+I3k5R2zkf4W0UlDpv+fttmWwd6mWnvmfrO87+lGMbmPX1LTvYn23f0lQ5NvuOKV9ZA/2NK9PWxa3T8PGbtqw465g3Pe9QfW/eGjHMLtv+LgTrMLxPBPvN9BG/Ay5Tz+Hxpn5Cx5BfYHx4+RPL+M6ZnvohdR2l/DJD67FPxaJGWbNAZNcXbpIFX/iK7Pq7AS/FY6ivW/arf9tXXp26IvzoMtmhR578sS8VxDUkfYf1FI2y/DP+XOhyWbhY59n5W1uLp3VnwpYVX4ubbvUNM6kVgSvSaFVz9Lr1yUBBrZhB/ivmoZf2Saf3gGGt1LW4Dyg6DyV6ZTet1O6tfLdzbj8XZEGjc6Ws5he8dSUycLzTXFWnlqe6+U2qHAV6tknaE7Xe+VJeIh/KHJATqj7q51TZ/gxmVpljKJBSkyddN0lz2YPlG5KB11IpBF5nUjcsve0LfQhV3xHxpxfpFpl853lmQB0JG6VOt6YH+PfbCDHKH2hV8697WMYyFMq2xpkuxnFlyqFbsdxpnG5pjDsTuZTqnFdqicudQO79Jdu53TnmSlZHie965Tq/5Ra9DewD7lnuwmZXISse8D1EfeVsVdL082fndWudO23m7qsdb1uD659otPumc64ItA5rBd8pjFIls3135PQ5e+Pi9Wr57rDUXeGUepl9pf0YQ6zfgeuqEv1OOFTdN+vWcf37UJwW+7FUUDD9xS9+0X5KiRqW2IxKtYuoHfVHJ2y6RsrAcR0gqtNIld10M+qk7YVTcuSv1Q70yxfkK5//pNy0usN5eORX581X1v/1KTl1KtRtX1bAxi+SBeudp3h1fqt70szj1kguJlCMweQ4F5s52bRKtwoowwejDt7NA4rmxzp0YN+1O3VL2dcVlnvp5qMdkJqInFD31nawS/qksVrW13TqjDrpe7d7C0xT8TN1Foc+ydqP48RG3+3mVFfM3FT9I5b6YdEpHhubS/yWkVicIDaQLhG+TVpiTmDmT2dy0jpyc1NrQl3SXNoSn/NKZkzLfeH3l8xqZb0pi/8ia4wCoGzbIPZ5MbPAxUuGBpVUI4HNrdfHgWkEUjXiaywIXnCWss78D/zrCwrnIlw3Zjm/sTrQL8WFeZHZHP1jT/Rlfi5mnCoomH7kkUfky1/+skybNs10+rMeVjS6VU3/An6rXbpOOoOMX/bLCx16t22UeR93BskvVffBcpn3b1fL1//6h/K9/1QjQ9/aLp1H1W52zULTOre/t1+mlpdLeaCLegtHhVTVmCnkhZf8YfzPpa8ntNwiMfmg5oRp8yuLePXqtDjn5rRgF5sTzPUNdKgDPPiAYcXNy6X+2X3SvsffYq3o1oCIV+flFH7yPuOJ1TkB6txC920jXmDvfKE4TA6qs12dNwcUMSfdtjjn5rRgFyq9bpwWr/yo4+o6dXFxKEsdJN32IfoZAAn9sOTF1K9zERjktHx5F/Fh2cpvchZVUBr39YEZy+ATe5/X7Btz1EWjaVWLK045EijlOa+Uxqzc+e4vWaQfc0U4L9jAR3cmuFWl3R6641cqJdsGR7aZnHevYcW8HjAm24qd3ijjaygoYZ05v6fqfKD3G/fOjblLp4bpQD/qmZE8lOQ3MgPnwWW9bYt/3imVgtM8dPD89ttvm66ogbRRK7+zSZ1IhjqkackCadq4Q3a0fUXuvmmBfOXv1Nj/9GW51T7wN/R/N0vDlg7Zf7hbuv+uXf7yefWTUrFQ5ukLyOt/R9b/boX0bVkpK9bukk7znQ7ZcX+LdGY4AGt+d6Os/nifbGtcIc3f6JTuw52ya+0Kue8bFVK37ctSn/BBw9zsraE0Nv1CHexL87y96rQ4594pnRbs3OkgHvswRfaHRtwr5n1qDULznuk8LNbaFrp9ZIeH32/auyXLVaptAU+dmIak46FQq4Kqu0xldU5ETbIucGLrlW1FanUy87efU2y6kKrHdfahpfici5ScJzcbXOVMB8nCPJwaqhvn7TC2Jw9O2k/oPapq/be58zYPTeqWG/+29m0H84MVIxVJ70Oigtq9vh+WjJwgP3gr13llZPgNN71blkrrXbulMVMwmq38aWVXw7OleUSWQe3X6jxnaivOPh+Qvp7p2zG6LvQ5KfBQmzK0d1uRgsgM57zXBsx6mjp3howz0eV27/BlTAWKK+/9JYpz6zx8zBW7Ts1xnaaQ81tcoW1gfjvUv25qRabfyxz7lnux3Lsnj1Q/u+zOVe2B4yST6DrLzLSYZ/s9MstvlaVqH0mlc+jfCWdYIb8Bmnndqr4b4C9Dlt/U/PnObRORzZ0e1wa7t4/ed8dNo3N18v70uaM33XHf6NbONwIPDr7bq76z+DfNwwDTp//m6JJ/t3V0X7/vG784MfrC5vtGl9To8aqrWTK68t8/Ofpq1NOHrnd6Rr/x7z8/etNcZ5rfXJy+3MCDFQm58/B3wfnZBxdMt3W0xyTthx/acL6Teigi9eBBvAcfnO/klfwf+RBDBPu9qOWHHxZJcR/mSHU5y2YfBnE6PU9fnaSNV134YQm3nF4XVa64/NvMdoHl+ddPLafXV5e+7Zd66MO/rR3OfpO9jM53sjwAEleobvS2CD/YFOzP8jBJeDtElM/ZL1Kdfx9LjbPTmbKl10Oc+vH41s9f5rRjM+sxlJKp/MH5uceyb/3D/Uq4DIE6DdSlXtfQPp9WN8H9cmVHT/p2ylAX4XWKWxdR0upVdf5tHFgvtRyz7LTjwLeu5vvxtnXaetjOWX7Ecas7e+zmLLcVXEb6/h1Xkv0lUC+uwH6ix2U5PuMInQ9MF9gfCj+/ZZJzGwTKtnX0GfN9377hr4vAvqX5y506Prxy2Wkz11vE/uNOm7POsnHKFbWv+Tl1E3X+CB0baecFLbxPhPu18PqllmXqMbw+kfunT2B8sO51l2t9x5Mp+n82rsYkpq9q9e0rna8adYvXvIquTedFXoj3JSOZXtGvrNMtpceibgXrOwfzm0SeODYB3/NbOLPP63zTUv9VRgDjlvPbFv03FiYOfa7Xr7Hj93m8Gt9v80DRVNz9iHnQKOoPs+igQ98K23iQA3VisQ+0hG+9Gerkqx+eUYH2IxdhIK1vGU68v6gJABF0ul6BOc8oLYLpi4Z+k4V+cj/8By2cP+iS90NJGB/0Ay06oA69fsn5gy7FeXhpQjrSLk3PbpS1F+WFxMUr8CaGtK6Ib9NBiegW2KhtZ7tsOcOTmX6Ynb9COa6R5gFgErGpLzLRb+sCACYKgmkAAAAgIdI8AAAAgIQIpgEAAICECKYBAACAhAimAQAAgIQIpgEAAICECKYBAACAhAimAQAAgIQIpgEAAICECKYBAACAhAimAQAAgIQIpgEAAICECKYBAACAhAimJ4sj26SsrEE6ztj+icKUe5v02t6CnOmQhrIyNb8y2XbEDkP+ouoxNKx3i/r8pQ4ZsqOzGnf75pB0fKlMGvbGKv34Mp6Pc7OPjMOycV4ozET9bQHGEME0Jole2Ta/SWoOjsjIyIisX2AHI09R9UjdYqJi3wVQegTTk8WC9erHYo+smGn7LzZnBqRP6mX2lbZfK2ar98Uiqh4jhtU+oIKTJ1dIhe3PqiT7ZtzW5QncCh3lYj/O8xW1PyOjob0N6Xec2OeAnAimAQAAgITGdzDt5uAdSeW8eS2NptUxNCygV7Z543UXzvlyW6x6zb/6O1H5oabbEqNtM1Ae1QWu7uOWZcjJRY2ch8O0HPjn5ZYt3AobXofQvALLiZEPF15usKUvfvmDy43bauzMPzVdMPfRlG1+k3Sq/5rmO/P9C72cJa1qbKssTVtWaHsEyhl/XQLc+vfvB3aaQN1FzSfrvqOE5+0bH94ucXJCM237qHr824hhuh7NPMLHRab1cMtvvmRlO8bc4/5McDt5+5wZXy1Nz4p0rqoOjvOL8b3s2zh83AbXwa2D4DYIrWeYrosMy/Fvu+A28o0L16XbH6rPtP0gNN4970XWmyf7+seT/dh1hffj6H1LLz/DPhEhan8O1ltqPmnbxN0Hvd+eTOseXj/3eHKGh9fVlMm/LHe9/OWx4wN1Eiqfu+/59xOnLoLlSauf0H6Qmq8zXfWqTpFnm6TaP86re7/wvhH6DXHrL9MxDEw2o+PZ6WdGV06fPjq98ZnRQTNgcPSZRtUfNWxzj+kz7HQrO5xvGL1bzXRbe22/N6+Vo8+ctoM0M61/WMT8QwY7Vobmo6bZbMuXV1n8w3pGt4am69msv7NVjXGp77jlMvN0xznTBubvlkcx8/Gvj5k2VA8BvuVodp0Sld/bboq7fQPrFObMJ+f2TdtuSqBOXOG6CZcr3rqksds0VU5b7ohh/vmk7zu2PP5yp83bYaaNqE//uoXl3PZR9RgxLDyfrMdAeDukzc/WuTs/ux7pdZA+TdZtYkR9L942HuzYmr7Ovvp2tpN/mtB6RNHr4d9mRnCfTNuuahqvnOG6NP3BcjnbIlzfEft8aH3Dcq1/mrTtao8Bf33YsviX65TFV163HkN1YNYzYr2yrUN6mdz6CQ5LK4Odd9b1Vcx0gePArTNnHcLHYtS2NevlzSPeecPdfsH9ImpYeD0j6jlQ/lD5NDOfHPVul+8t260//3QR5QEmiwkQTIcOvqgDMnSwh09wruDw6B8+/Z20k3P4ZBIQ/CEMK6QsgRNbVF34+cuY7btmXHhdnOVn/VEKCH+/gPJnrdvQPHzShmfcV4LzNtOFt0dg2hjrEiXTsqKGefPJtO+Ehpt5h+tOfye9PjPtb0acbR9VjxHDgsvJfgyE6ybnMWaWF55f9D6Xe5+N+l5xtrGpg/D3I/aDAD0+bRnB+su6DcPzN/1R+0au+cWtP59c6xbaTzLVZ2B41P6mhYdHrmeMbZY2/0z7amh45D4Ylq0OnXHh6dPKG1Gn5jtRw3zTpW/TqH069zYOzzeyPkNlzLR/BoZH1l+CfQ6YICZoznSNVGV8GGJIBl4T2bi41van1C7eKPLagL2t5aifU2U/ac607i1hrzPpAhmYB1w2Sl3kU+KFlCXk7RPSeddyWRTnIZCZK2Rti721Gb5dqufjpT64nXMrPDv/7bro7xet/D4DxzulftmitAfdKm5eLvXPnpAB2x+Xnp+0LfWtu+rMreCgrOuSj7tmS8Y5Zdx3aqWuRaRvwL93hPZ5M617+zrVLW2z46Mk3vY5ZD0GwuIeY6V/aCzONg7cao86D1xXFe8hzDzUNuyWerOPhm6dZ5TsfBhHzvXPItaxm+m8MHORLL+rU068bfuN9PWsqKoRyec8kNcxl2sfrJAVzRvtvpwpDSShbOeNLOLs0/7UEJPWkZd8ftN48BMXDx5AjLDRvkYp2K1Xp9uJw7xtYeSY7H7NBo7+oPqu3XIsbf1GZM/d0WGB84O6VMSrFzXfu+zICaj+iWOB9Xa6ifi0+kY5kLYeqnsgy56a57YvlfF/jDkXj9Vdy1P1dVAFC2NBXQzvMcursRdLcYPqYrqA6z+RmDddjMixJ/oins0YZ2y+9FI5YI83Xe56OxJAISZhMF0hVdeJtB5KP6X1HmrN0ZKUedqMZlZJjbRKd8RDNYWVJeTK2VL/7D45nNePaoWseNL+CLZ1Oyf5vOczJIe7Ok0AWvA7WiOWOzTQZz9Fq5pTL51dh32tHY6hl/ZJZ4LWm0zzuyAy7ju90t0mUlOVZe/Iut9lkGgfiiGvsiQ4xi6EI91qjdTFStzX/+Uj3JJqWksjmEBNX7h2yr6XCttj0+t7QE5kuyNRhPWPdexm2ifPHJZ9z+Zu2TTn0Za6+BdhhRxzWVTcvUdtqwOqxoLzDrZ02ztjF4hT7+piOtvFdk5F/E0DJpFJ2TLt3iYNPDl8ZJssbauX3Q3ZTyTmVpWaNvAUtrqi35bxKeRaaVRX961L/K1HQ9KxxXkSupCyBHipG/6Wj17ZFk7j0LKV194+bXoo/HR4phYV5+TZeTz18z+0d13+qQELGk1QEFiuKue6HLcZK+5eKxv10+X+9bTTbWzO8UOvf6hVmDLg+6F2bjE3ybpA/WSox5KL2nf0tlgqrepHrzHrxYtzW7p1SXC7De3dlrkVM+9tH1f2YyAs/2MsSvp+GS3u90LS9h21j+SZ5hBpQZ0JuLZ766rq6aFgmlHh28PPSUUI17fZx+znSEVY/1jHbuR5zdZJy9rQ3aJWWRp6E8ZSFQDnl8JSyDEXlnkf1/W+aJm6mFjVnlovW94LJS0lJuL8Gydtpli/ac4dz2Lu68CFMznTPPRt0td3i/jzMpeIHIhzK1+3Bh1UP3dL7HS6m39C6rLcBtetEseeEF/+arXsm2NzBQspS4hO3TjQ4s95XSqS4YekL2157i103Vp9THaLff2R7bbPabTj09U+cEA2qpOn+911sjZBmkfEch8SeSTnreNaWa9bfHzLL5u/T5a/HuOvmXk/1Ho6e9KO2h5l22V2Phc2RZS+79jbsDFaBNP3hzKpPl6XZb/Kf9vHlfUYCEtwjEVJ5RZnf+VW3O8FqP3kkcD6dEtdUdIc1P6s5pPKGV8n8jXdounn36aqHpcdKywNJ6K+uxfnSNUqyvrHO3bT92NnndPTlTbKgeYTqX1XBfc6XSjfO2aFHHNpXvMfS04qnFueirsfUXXsW69DdRc2rULtB4F6VuffteHymEYP+53Q6/g8RfxNAyaLKfopRPsZAHBRGJKOLxUhUB8rR7aFGgUAYPzgAUQAuNjYnOTlN0+AQBoAxjmCaQCYzI5sC6W39Mo2/TrItJxkAEASBNMAMJldOTv0jMBSaW05kP0VigCA2MiZBgAAABKiZRoAAABIiGAaAAAASIhgGgAAAEiIYBoAAABIiGAaAAAASIhgGgAAAEiIYBoAAABIiGAaAAAASIhgGgAAAEiIYBoAAABIiGAaAAAASIhgGgAAAEiIYBoAAABIiGAaAAAASIhgGgAAAEiIYBoAAABIiGAaAAAASIhgGgAAAEiIYBoAAABIiGAaAAAASIhgGgAAAEiIYBoAAABIiGAaAAAASIhgGgAAAEiIYBoAAABIiGAaAAAASIhgGgAAAEiIYBoAAABIiGAaAAAASIhgGgAAAEiIYBoAAABIiGA6myPbpKysTBr2DtkBuQxJx5fK1DTbpNcOifLzf9wmS8uqpeFbA3ZIr2xTyyn7UoeagzYknaurpeyGVun9uRkw8Zi6a5COM7Y/F/P97PXm1m/87YFEznRIQz7bLl9Fn3+R9ot899nJrNT7wERShLro3aLO71vcs5v9nfD6xw9TTu93KINY5+qYijKvhPVptmuZbDti+8elIp3bOJ5LbnwH03Zn1wGt192wVJq37JeBX9rvTEgfkl+r+JBcdumHbH+ED35IKq66TKba3uLLdQJyAnwCVwAAgMwmRsv0v10tba1tpltTMyTtbXfL0ns7s189j2Mf+v+tka5jP5SdyyrskLAKqX/8h3LsuTVS48bb/2O/tNy7TJqfLdZaV8iiZfUibd3RrQJHuqVVNsrauzOVMYcF62VkZI+smGn7gXFkaG9Degsc+yzGRIWseHJERh6otf3jR+0DqlxPrlAltIrYCh15zBVFwvqcuUL2jIzI+gW2P5YitRRj0pkYwXTt78iaP15jurYn98rXP6N26W89I4cvplsWZ/tkx55uefdXtr8IKm5eLvUqZO6OuM3Ve6hVpKVOxt/pHgAAYPwoOJhet26dXHnllabTn0vvMrn8MvvRZ+jwDmle8kmTClL9qbulZW+/pNKNh6Vv7zZvfFn1Arl7Y4f0v2dHG+o7e74id9+g00k+KUvvb5f+d+0oT5z5WMN9smvVAqk2qSmh8pir/WxXtzYFw7YImDy2JSq4VTpXVdtp/x9p/7z+Tot0+/Oqf94trdVq+L2dqrQ5UjXUlfnaFpHWQ+F2h17pbhPZuNgJpU2Lgl4P2wXn516p99oy2xy0iBYNsx6++UTnqtn8cdvlbgEIfj92vl8ohShclqzr7OafHfHPw66r3baBYX7h1KVwmk1g+ojxfuF5hdbdzdMMrkt6mYLj1Xq9bUfkEK4jf1njbWu/0Hb08vv08PRcP3fdMsm8/Zz9tXpVp8izTc7x6dZbxD6btj3C+5e7L5zJvt/mVR9Zt2uG403LtW9FybV+frnmn7Tc4W0fe7qQrMtP7TMlOR5yLDvIXafgN4L7iCpXaH+MW36PKVPo2DHzDA4z87Pb0n9cmc/md6dVlkYtK7TOmffpLMecK9e8wvUb2PdC9emut3d+zlBH4fpx6ztTWczwaml61v87nFqL4PaLqvcs83aFxjfsdZ+rCsq6LCX/fThVh9n2L/++4slUj+ZfNQ+zrePN35HptyAluP7hesx2Pimh0QLcf//9o9OnTw90eljRnH5mdKWe7+YeO0A5993Rh+aqYXP/dPS7P3MGnehYNTp3+m+OrvyzfaPf7f7u6L6vf171zx1d9e1B5wujPaNb77hvdHvHC77x00fnPvzdUTuL0Vd3LjHl/83GraPP7H9h9JnNK0dvmjvXDFvZEXc+g6PPNOp6+Pzo5+/5/Oif6u91fmP0vjv0fOaOrnv+XfOt0d6t6fNV/dMbn1Fz0Nz5bFVjRkff7f/u6Hf/231mmjv/i7OOr57+2eiJv/y8GfbQIXctRkd/1v2nZt3/tFsPc+abWk4EUxZnOZ7AMDUPf/3bbbK11/Z7ZV05+sxpO0gLz1dNt9VfDjPeN42tk/A0elmp8jvLCtdbqixqyGZ/PUZwl+P7zmDHyuByc62zu1+mba+IYWnz8ddT6Dtp40PlCOnZ7C9z+vJMXagyhevP/53IddfrEd6eIc68M9SZWo+s2zq8nrY+/fvpYIc6Ds14XZ70spjle+vhrFdgv/DXm52/fz8x6x3eT0L7rFM3wWWnrbedd2BYaH3TlqXG+8sSln272v5wnYTrNG26dOnrp6bZbMsZuY2yzz9RudUU2Y/hTNOlu7DHQ4xlh+rCv78H11mJ2K/ilD8ow3Ii5uH2B8uphI4JwwxT3/OVN73e0qUdB1qceeXc90Lr6dZdeFlh4fnGWq/0OtWi6y3Pedtypx0LaljaNsyyrPQyx9mHbZ1GLcs3LzPv8P6WqR4D34s3f7cOAvVr5+fWiymDf9uq8ak6y3U+KZ2CgumPfexjTqX5Oj2saNyD4nPrRrf/2XbV/akTmM69U1WWDSB/9t3RP1XB9b/+s1edfuPE6JP1arr6J9WnKHb8p7ePmqnUPB4yywl+/8SfO8Fq+MBJCc3H22H+9ej2PjPA8c6+0fv0/P/9C6MmnLY7R2q+dmf3Nrg7H99OljaN4s73P7jB/M9Gv/sfVL9Xnjiid77M6xw+mdiyhg8wU17/AR0WWq75fvrBHjxwgsuOdWCHRS4nvQ6CQusctYyo+YbqILJe/d8JfT9f4ZNM5EkksIwM652rDnONTxNaTmh6U87wdvToadOXFZwmvE+GpY9POyFrceomcl3C3wsuL/v65RZ1DITnl3PfSpNp/ayIbZTf/OOVO/cxHD1dHGN2PESIXLa3DqH9MdP8Q/Wbu/zpgvXrHEtbN6cP82/nQF1Hzd8MC5c3x/6khOvEiDGv3PteVH1mL4sRrvdY6xValmbmE94Goe/FXM/0/Txq3bItK8N2yLSPeZx5pC8/OL/cx6sSua7x5h9dB8Hhmb6jxSpfiUyMnOm/2yUtG1tUt03aB2+TPd/tkvUL7JN5r/dK+5BI38bf9jX7f1Ka/16N+3t9c8ExdKRDdrV9RRqWL5OlN9jxR38u5/VINY9n1D/1K+qkSvdbVZ9YaD+lZJ2Pp14WXm8/ajNqpG6Z+rerT044Q4pjxq2yYl2FyP+1X3p0qsfPe2T//yVSs2KR1DjfiKFW6gKpHjrFo16W3+x/8NB/28S5zRVWP8dfcxkEbmEtlVY7OKVGqkIPf1VUqTV59oRE3ewaON4p0rbUzs9285tEDc0hfTnpcq9zumzzHZKB11K3B73Opu8YCxpl913OLdXwLeBM/Le7zG3UsOuqUg8ThZ0ZkD7ZKHV5PYCjvH1COu9aLouy1WHObe1y6sVNKSqeJNvPJ2PdOMdL34B/+9TL7Cvtxwi1Dbul3uyn6bcrM8m1XYPHW4x9KyyvbR9//vmVO/4xHOv8olyQ48HKuexM4hxPrmzlj2DOn+5D5nr91HIaG5ar/dEO0w+ax112QJxzaFwFnjcjZT8mM0uwXnr7eakwbhd1zsm9njnPg7mWVeA+nH6cVcnsu8Lnuzii1zX7/DPXQe3ijSKvDahvZD+fJo8JCldQMP3FL37RfkqJGlawlgMyMjIiP351t6wYbpeGxm3S6+Yp/1JvArWRth+RU6dOhbo15gG6oWeb5F8veUj2/3KhNK7bKI+9cER26uDWZeehX0eXTc75ZPSuDOpo8LoKiUj3LsCHpO6utWq33SH7X/q5/Pyl/erTrfLlZfFDac3sqBlOrk5+01KRgyNmG4yMHFMBnzMuH+aHZv4+Wf66O58D6pAvXP0Tx+z8/F1hb2Qo1jpH2ejN09+ttw962qfSVd3UROTkBdhgdak4x4bujj1Rb0deWKXa1nGVcvslYt8aMHKwRprm6xN8lqC6gO2afd8qXNb5F1DuohzDF/J4GMfHoiyoU8ee85D50Ev7RJYtkoqZi2S5umjXw/SD5vV6mP36eFXqfbtgd+2WY2nlG5E9Sd+Glc1YLms8ynE+LUVMEEdBwfQjjzwiX/7yl2XatGmm05/1sFL50MdXyGNPb5TaI62y8t/bV+NdUyOr1T+df39U3i0vl/JAp4PjITn8f+sE9NXy1f+0Qm5dVCvzKoZlyJ/1PmuerFD/dB7qkWFniNH3ov96JsZ8PD3yxv+wH7X/0SfdR1WodGN+rQqxXL9Ifud6kWcO75eurh2irjRk+cftuLhsi2j6yVWtc1en2Tnze31QmH2g8WD+O3S2t4pUzamXzq7DqpTFVKx1DquQquuiHvaMUivr1QlA/yBnWj/9w9ipT6oFv14r4m0upvUjiytnS/2z+zK8TSffbR2nXjrlROABGqcFI1qRtt/MKnWRGvWmG2f9aqoSHMnm1Xs6sO+UfS9F77XJtms++5aVcf2i5J5/0v2xWMfwhTweirLsiONpaKDPfiqEeyelVx0XYu84Oq9F1cMGXgvfhRxvEuzbYy3r+TA/6es5ICf8LdyxlpXgnJ7JmcOy79nQPmJbiD1J560F5p95W5s4IHxXJuJ8WpqYIJ6C0zx08Pz222+brpSBtOtDC9bII/+pVoa+tU4e0k+6li+S31P9+inhO7+0TTr+rlu6D3dK+8Ym2fGPZgopn6H/bZf2b+w343as2iov+LdKRZ184Q/VgD0N8vl7d0mnCkw7/vPdsu2w/0sx5uPpk9Z7GmTb3v2yf+82afhcs+yXW2Xj79WpuSQ0o0Lq1D+d/3WbtP9dh+rc3aVG6v//t8rQHlUf/12k8bN1Um7H6B9+fas7d8qAc3JtPbRNBQr+d0s7O3fn8VSSxdDedfnfMo+4VdS7JerWf6ss9T95e2SbLPW9VSTMvNpPbfd1gfVT6xx+2jgvxVrndM4dgKXBJ4/PdKj9xJZfrW/a090ZpKW/qPmsy+fWsua+zWWJ/4lqVX+5bqGa6TqlaX5oOlPvcbd1invbzr+fDqnjxmltsGlIO1P7RfbtEW/7ZUsfctRKo7qYaV0SbPUw66ICp8Y8AvXeLVFPrEdLul1z7ltpotZvSDq2RD/5nmv+SctdrGP4Qh4PBS/bNGao4+khX90nKX8Gett1rloqTZK646jLbIY9W5M9rUEHb+r3bCBr8BZPWj3FlP++XUrp5xcxLf2h7afkc9zr+a5oTl/PtHNnrmUlPadbOp0mtXx1PnioSV0o+vYbe7y2e9+JP28t1/yjfgucOKBedjc4cUC2es15PlH7jb6LFNiXimRi5EwHfEhq7ntENi5QG2JVi3ScVP3r/lq+9/hqmde/S5o+v0yWNbVKx9lr5fqP6u+Xy60tXbLxsx+SF9bfLX/41X0y9U/a5I/mmJlZ6jutz8nuP9ZB6VekoalF/vayr8pjX/HnTMeZj2u1PNa+XN795jq5e1Wr9M1ZLTu71Q9wvi3Gfh//Hfkv21bIvJO7pPnerdLvC8urPtsojUNDMlSxXlb821QonQ+zE7a1SmuoFbj2gQOyUe3cJvdIdetkbYJb5upE8bXdIr68t+7FUbf+N8qB5hPOq5N0pw5SfXsvYwujOnHseT0437Ky7TLbHnRJFWedI+gr6YMb1YnOLavq5p+QOt/tOf+46q7lcsz/BxT81LwOtPhy5x4SWZvg1rL+Iw2B+ZR1S52q01xzSp9uqYi56Im7rX0itmN11+zUCVZvD3WCdPeLdfKIWrYzLkqs7efLT8/06qSKu/fIsSfE3kp0OnMrP9M2ychfT9Wyb9mxzLdkk27XGPtWWPr6qbLNyXDLP9f8k5a7WMfwhTweCl62Tu86JrtVuOud+9Q8HlH1XRQm1UOC6Rx2WM6/JWCCM33hrMuVT3AYIcYxFynBvl1KqZxdt6EqYvupbvucxux1Gxaxnt2LwylquZeV9Jyu1T9xQGbvdKerVkvZHfwNUvvDI2rfTpUx/ry1OPNPOx8sETkQSNPwr1vofFqs80kCU/RTiPYzJqqzndL8Gw3S1/o9+d4fq6t/AMDEpt/TawKJcZQbjElKvwc6x4V+QUo9/wtvArZMI2zo75+RdnW6/Z3PEEgDwGTAX6EFJg6C6Qms/+/apeMbzfKHGzql5oGvyZf9r+MDAEwAutUumEKh30jjzxMFML4RTE9gw680S9P6bpn6u3tlT0tt8ocbAQAXiH6ozZ8Hqt9TLbL79dK/zgtAcZAzDQAAACREyzQAAACQEME0AAAAkBDBNAAAAJAQwTQAAACQEME0AAAAkBDBNAAAAJAQwTQAAACQEME0AAAAkBDBNAAAAJAQwTQAAACQEME0AAAAkBDBNAAAAJAQwTQAAACQEME0AAAAkBDBNAAAAJAQwTQAAACQEME0AAAAkBDBNAAAAJAQwTQAAACQEME0AAAAkBDBNAAAAJAQwTQAAACQEME0AAAAkBDBNAAAAJAQwTQAAACQEME0AAAAkBDBNAAAAJAQwTQAAACQEME0AAAAkBDBNAAAAJAQwTQAAACQEMF0Emc6pKGsTLYdsf1W75YyKVPDy77UIUN22LiQobzjy5B0fKlMGvaOq5rLoPhlNfvOll7bd6FNpG1RBOb4aJCOM7Z/vJgQx+3kNL6Ox7EQOubH0743psfnBDz3Hdmm4o5xeP7KpWTlvjDbMEcw3SvbMh5QToE50TuG9jbI0td2y7GRERl5coVU2OEAAACYvGiZTmLmCtmjgub1C2y/MnC8U+S6qvEZREeUN7dsF1IXiLmS3aZKhuLVxTjcznAkOm4xEenGmHF1R7Po+17M8wzn+PwtWC8jI3tkxUzbXxRj0LpblHKPnzsJBNMAAABAQkUPps0VtroC9Tp/3lnEVafz/eAwna/mv9LwcpFN58uxyXAVG77Kzzi95s7D/KvGx2kdCORwOVfcS9vUx7alZh5RV0nROXjhqyqnP1XW8JV8dGpNzlaNcM6Zu842Ly5tWWb8UmlVH1uXpJcjVn1mmrcrNL5h74AdEc0sc4kpkSw10/i3e656y8TZdqnpUusS3o9zX/lmKkPCbZZWttT6Zq+L0HTZlpFjO2uBbR0xr6z7QoTg94PLyzbO24eP+Pcbu97usesf5nL3x1C95N6e+dZjaLlKYBuH9vfw/My6q/ODWwemfO46++o0637pfT/3uobn4z83hceF94ms3Lpwt4lvPbPuK+HpfNMGyhOxHbKWt4D5Gv7pIvfv7PtJ5HYNcM4P1as6RZ5tkuq0eYTmH1mGsPA06ftmzvNveN/T9ZBWR85ych7Dpg6zn2c0M23G85qWa7/Ovi0i5aoHK9u+627j4H4YUefh8oW3pVvnic9xltsfWrdwnUduK81MVy1Nz4p0rqo24/x1HT7e0uIad/lumbMeW6lyx69HK0c5tcA6RpQj67kjX6NZ9YxunT59dGuv7Q0YHH2mMTiuZ/P00enTt6qpXM53pjc+oz5p4fnZ8YFhwe+YeW5OzXG0d6v6/srRZ07rnqjy5TO92x/6Ti6nnxld6Z+HkracMLMcf90ogfk45Q7Mw4yfPrqyw6m9qDrXBjtW+uo4Qri87jr7pjHzCJQvqm7zqM9s87br5Z+3s+/41zVCVB3GqrcIEd8Z7Nia2hYR80uV19kOqWkjyqDK6nw/3jYL12uqLA4z3r+Ns9RFWr1m2zcipnHLHHVc+usr574QkrafenWkqDre6t9e4XnZbZCaPlXGtGFpZdLfS9//vHUx/f5y51uPUXUYHNaz2b+t0stp5h+eR1S5/Otm18Nfh6aO/OsasU2cZfnLk5pv2jYKLyMXt7795VRy7itp0zn1FzUseMzmKG/C+brbw19m5zyW334SuV0jpK2HZtfFXy53fbLNL+e5I2KbuuXMeEzo5YbLF1r/rMd3RF1FMusXOq/Z8mbfr3NvizRx6kExw3z7QXjZ6dNEnIfibEt3Pb0y53OOC9eNfxq7bfzfUcvKer61ywmUV3HW1b99bHlC290s31/GKKFyx6rHNFHltNOpeYX3P//3cp478hQrmDYVk6EL7gj+jWGFhusK81bIjFMHXMQwU33+z55g5UXv6PGnT9+JYgitk5ZWjjTOcv0bymxMO03kyVQJDk+fh5ZpWk+4vJHrHD4ZRZz8EtdncF7RdRWaT5TQwafFq7d0ubeXX7hswf7sy4q3zXKWJ7zumeoiPI+IfTUoYjvbMofnFShznH0hJL86D5Uraj2i9rXIekpf//R1SX0nST2mrVvE9vGL3P7hfSjntgvVt/l+9LYMfifTPHWdp4/La7tF1bdZZo59JaK+TB1FDfPqKUZ5E803w/YIldlMk2M/iZ5PuvDytUz1ntf20EJ1ED19jv1EzyNtPeKc111R55kIEdsrzn4dZ1uExa+HUHlC3zHzCddNrDoPDY8qr5lP1DBfmSL7w+udq/7D40P1oGWqz/DwyOVHCJU7Tj2miyinHRau7+AxFuPckadYaR4bD47IiH5LRaA7Jrvvsl/Q3j4hnXctl0XhZPKZi2T5XZ1y4m2nt2pOvXR2HXaa2/U0LXWyfvFGb9jQS/vMsFp3vHfLx+2cZn1XbcNuqW/rTt0qONQq9U80xp7eUSNVRU3ej1Ihi5bVS+sht6RDcrirUzYuNiU1DzDWL1uU9gBjxc3Lpf7ZE5I9CSKJBOtclPockoHX1D5l17tQyeotThn8t+Si1jElUxkKFbgFZW5/ZmcegrWpRl43v0lts2Tq51TZTxFi7wspzrGqy5fhVnXgtqRzWzi3OPtx+ncqqmpEMuwfSeox63nI8t9yNLf1w2I9wJxrv6yX2Vfaj1H0dos6T2tnBqRPrWXT/FQ5dWdS2PISqu8E+4rnrtmScS8spLzZ5utK2x4VUnWdSOdxZ6+JvZ8kejA98zmqVv1eymsD5vcyk8znjuKef/1yHt8Fyb5f53/MxqyHuPtu1m1c2LZM9FsdZ5p8z7eZzh0zgzGeI0mZlSK+xCHr71fRznUpY/4AohPk7JPD6mDTPzhmB1tQJxvNsGCAadxlXzcX6vbcbavcbMhW6Ta5Lr3S3VYvy2/2bY5c048hs+7uD+6Zw7JPdkvjRHtSfxzVZ6k4P0RLRbyLyNCFY8k5AVN11/JUXR9UJ90Y6p845m2TVFfsJ72tfPcF+4aAkYM19iSW+tE1geb8fbL8dXc+ByTeGpdG3vWY7Txkf7SWygFvXseeqHfG5WFs9suNcsBbX1/3QIHBV8nOGyUqb0xjerzFkvzcUbAsx/dYKNm2mIS/eePtfHthFPfcUbxg+srZXpAcoIPGZ31XleZHR1/F6B+cjVJngslaqWvRwwbkxLPuMCXTPAN8Lb5HuqXVf+UUa/oxpE42a1ucH1zdAi++1sxAi72PaakPtaL0DQS/Za7Kx0IR6zPVQu/S295+zEM+9ZbitDCll0FzLuj0iTnua6EylcEvr22m92N9oOf5vvI45SiaQvYF80okHQh2yr6XdGn1uUCd2g6OXRCiL+TFvQMWkqweM5+HnH1R/SAXFODlv19GyrbdZlZJjdrznAuCIirVebhU5c3I7qe2sae0x1vmc5TZdzO14MU8dyQ6/4bv5JjWvQhpx3fpJd0WOeuhKPtuwm1ZMgnPt5nqIhzjTQQlOHcUL5g2gaJuNvc/fTkkHQ81SWfLWt9Gsz86S5ZKq+/HTB8MZpg/ALKBd9NDwacwe7cEn/CsuHutbGzrlm26pbvZdxKJOX06fXVfmqtqfVun9VCH+mGUQAu6WQf9NLf/ydgzHbJuVadvnZy661zVnir/kW0F3ZrIrEpm3xUKAhPXp1+FrGhW18BtSwNPzvZuiXGbSR/M6vQ94Nsu8eotnXtLMviU8ja1zYO3crWhveuy3pKOLIPaLs76Jdhmaeup9sdwmkdUXZi7Pk2yLvBEs5o2/LR1QMR2jiPBvpB5XHoZYu0PsbXKUv+T3Lb+M93iTVaPdj+IOA+lpZTY/TM/+e+XkSLP0+666UYNVVtLgtvJOS5sj34CP85bEvyKct6IEqO8hQidH5x9MtXYk3Q/iRKVdhR1jnL23XrZ3ZDhwiznuSPh+VffPVbf2O6Vxf622z4t+/aMeZ6JOK/Fkf+2iFkPRdp3E23Lkolzvk0/38SP8cZSRDljKf65o6hpHrUPjMiBFn9+UbXsW3Ysrdnc7PjqX/+PmTssmHuqdvgn1RWu2FcG2W77nGAuolMxrdLqtXS74k4fEm7hLiZ9UmprkqbrwjtfrazXt1rUAeeW070N42+Jqrj7EXXF76vjQ3WJbhnn5pxs3FfOuIFhovoM0y0XB9Wp2b4mSXfdi3VLhh2fiXcw62ncgyBevaVR89rz+m4Ru366q+6abbZ57QPB+a2TtTnKFlGGJZL60c13m6myPfKE2PXUXbfUhW/VRtVFxDqVlW2X2VlP1lHbOY4k+0L6ucG5Varm9bVgubsXF/O240Y50HwiVU4VXOjnQDLuH4nqUctwHlL7e+C8+JDI2gTHbP77ZbT08/RSEXsuTh+njovjdd65yuSC5/18QJHOGxFylbcgLQdk7fHUPrBUbdcDI+tTZU68n0RY0Jg6R7gXK1HzV+eVA1nTjWKcOxKdf9U5Tk3jnifKytaJfC18jPq3g//41mKeZ1T508/xMSTZFrHqoUj7bpJtWTLxzrepHPjUK+fixnhjKaqccRT73DFFP4VoP8PSuYnr5JES5USpq2Wb91jQ7VoAuemWVPOj5QuCkJB+J7IOoi5EAIAxpfP855+QtRw3QCxj/gDiRDBwPJiCUVQ2py3Ygg4A492AnJAS3bHD+GLeYgEgLlqmx5Ru2Qnf/gJQMrRMA3nidwrIFy3TY8R5rVW1NF13gBMUAGCc0SmITh4sv1NAfmiZBgAAABKiZRoAAABIiGAaAAAASIhgGgAAAEiIYBoAAABIiGAaAAAASIhgGgAAAEiIYBoAAABIiGAaAAAASIhgGgAAAEiIYBoAAABIiGAaAAAASKikwXTvljIp29Jr+4rgyDYpK9smhc1xSDq+VORyFYNZN1WusgbpOGOHAROJ2YdLv/8W/bwCAEABaJkeD850SMOSPtn9+oiMjOyRFTPtcI+9AFDBdsPeITsMFw7bY+LrlW3u9tPHHxeyYyj78WMulr7Uob4FABPDJA+mnR/MbUdsr1EhK55UQesDtbZ/HHj7hHRKjVSlBdEuXeZjsvsukc5V6/jBv+DYHpEWrM9wMZhJ1PE5Nnq3LJXWlgOy5+4KkZkrZM/ru6VeHYVND0UEcd5do9JfQA3tbcgjkEwFpU6XftfOzK/gu3nFlv34qX1AjZMmWceFKoAJgpbpCUP/AB2QjfoHf/54+3G8GLE9Jq5e6W6rl90NvgtqHVAf3CjybJNUh1NIzEWCugDX40tIB77VqzqlftkitXfFofdBfTfLCUyjVNy9Vu2jrbL0ArX0mlbmyAuQbMePGtesxqxq57gCMCHECKbDrR/+liSnZSk1LkZQEWrlcVthTAtK+EfM3H7NfuvVPVm7nVc2s5yl6mdEpHWJf5yzPuGTu9OC45tXqCxunmbwe3GCqGz1Z+e7xJRSlurxWX/0amW9/lEfWa8+4cLLb3uE97HAPujt66H9JcN+GDyOQseIGaf2Tfc7/n0qw/HncacNHdvB48U9hnq9spp92ps2Jf/j0xGcLvM5wKuPgOhj3HOkW1rvWi6Lwi3obtB8Ie5aqe2/TgfSTxxzWsuLRu2jutU96iKhpJz9Z2mb7Y2U5fhZUGcuArp9+wQAjFc5gml9QqyWpusOOD8yuvO1zgzt7ZbZJs/X6Q60ZG8BMcGElxusu2Oy+zo7Mgn1A9Q955i3fF221iX2h9f8MOqWD5GNB53x6xeYqdLoH+TqVTVywJ2PLtdrS9MDjbalsk4eSX3nLrW+WX+gIupP/bD1qeDB/aGvfUANM3W60Vn+kytitkqlOAHFNhv8qPXf6wZM/sAmdOETFaT5xqcCG2e6hr0dvukzBzdRYl2o+Me787e5rF5QZPv902cLUJ1xel6+ADWwTUOBa2h75yp3fnql/fjawH4gq6oDAaSYVrp1Il+z39H7r9rn0parhx2q8+Z17AlR04W3ido33e/YfSr9+FPH7HUqyEq7KNQXdt1SZ7/jljUcnHau2u6VNfLYSnh86v1hqfjPOTUR6+eoXazm0NYdLP+Zw7Lv2XpZfnP0kdR7qDWP1t94gvuKv6zxjp/ePU1q62+UtaFA2pnvNnVM++af7344c4WsbVH/tm2PrMNScNNo9L5Tb4flp0pm3yXSNxDc5wBgXBrNYrBj5ej0xmdGB21/Tr1bR6dP3zraY3t7Nk8fnb7Z6xvdOn366NZe2xtiluV91zr9zOjK6StHnzlt+0PzTxdeRtQyB0efaZw+urLDrlV4Ga7QcLMu4brIUZ5M9Zc2POd6ZWfKZsrqrJuZtym/u+5OPXjLtOO8OlDLT9WRnYdXHjtteF7hbZWJWbfM2z1V9oj+cDltv7ds1b/VHaeE52XqWfWvbHSGOf1uWTKspzvvHOUuXNR+GLG80L4RuR+G52WmSdWDI+pY0ELDI6e1dect19ZdeB8IlTVduAwRZTL1EJ5HcP1MHXjLdsb552HKmnH/TP9+bHaf8OrZCu5Xtnx5HT/OsPB8NXfebt07/eHtY7dHtroPH0tjpYDlBrczAIxfWVumB47nzt8LtMiYdIUMzgxIn2yUugytw4m5rZWmc24b50U//Bd1y3fmIll+V6eceNv2a9dV5dWalan+Km5eLvXPnpAB218UvnVIW6a+ra3+2dhsW73Nuol0dh12WmIXrPe1LFZIlblb0CcD/laslgPB1sfXBoKt9jm07oy6Y6FzV9U/LWvzeGjNZ+YKWe9ryauao9vAQttM9cuyR8z8Tb2rIaa1y7Reqrp6otHeYq6VOtN6F2zljC53Uv67A9XSpJYfVC+zr7QfXVfOVkND2yJtP3S2Wedx/x4VeqA14/HnrHewBTD9YdiKqhqR0D5bP6fKfsoi3+PTPIxrU56y1pWrQhYtq5fWQ+5WG5LDXZ2ycfFYpWo4y5O7dkujrVvTWq7WIZCikO34MdtG1XpV+EzhqpfdX/PfsQrv4zHMrFJbNbyPjG/O8QwA418BDyA6gUF113I55ruNO5ZMesD8fbLcu23t3DZG0NCA/qlWP+82NzU9OAmmgCzNmueYJxWoH9BBqs7ZdJfh3qa2QURywTQN/fBWFC9I0Q+Zqf3E5KSaoE0FF6uqo9c7W7kTcC46l4rYlIZsD41NFomPTxWYeucUX5cpl9hcJLkXQfoiSVKBbekNyAl9LPn3k2yNClHsvlhaTtpEfoLnBd0F05IAAFrWYFq3DHitl2GmtXOjHIib42taRnI8UBJu7cz6I+O0am48mM+ruCLolr9n98nhcC6hzbtMaynMQ6b6G3ppn3TeNVv9vI0N06qouLmpXme2nQ5IdYuhzdlWnQkii8jkhZt522CqSLmbvVv0RUG9lwN87Ik8WrJMi69umfbl9Jou9TBU8crttF7qZUXmFmfh7CsRd04C7LGQrTU24/HnTJu5VdSh84ylpS79QbGMEh6fmY7HbExOsLNuur6kyPnQ2dkgNeICIPa2tvtiadmgPy/uA4IJ1qkI9J09AJgIsgbT5rVK4afAj2xzWifSbj/3yrasLTK10qiCHe8BJEMFcluc2+hO6kOTtHs/9rnml/6AinnoxX52xHiIxfwQh1/PpMr1UJN0Jk0/sCLr74zz1L6XcjEWzJPxOVIW3OBelW+7v4W2qGwqhWumk27ipVaofSvQOmw5t6btNnEG+bgpCb3SnqFlOpJddrzXb4XKnbf0NIyhvesiUhdC+6HdV9LSdtqWiv9hQGe/z5VCFXX82Wl9KQqO0IPEdrvklzqR8Pg020XVQ+h9z71bwg9JBunUitZDHeqiRTI+eOhwtkXWc0JenDQT3TKdOnflyaZgpFJVSsDeBYqVmjMuDMnAa77y2nQhWsYBjEc50jx0y8QB540C7q2+JeL8aKsg9BHzFgH3FmC31OVI86i4e49984A7TbXsm2MDBTM//WPvm1/WJ8ErZMXXnLcMuGXrXhy+jey+r9T5TqYTsW6BNG8isfMx5Vp2rAivyIqoP3vbeyxbeEw5dF36b0WrzgnInDryblPPPyFri5iuE3zLgZNKkWqtdLah2upO3at9a7e/ddnuE+btFWabHAikRtQ2+KYt2y6zD+bz5gC1bPOe21B+rr3wyV7u/NU+ENwP1snaiDSPetl9cLZsd5c7v0kk6lVpLQdk7XF/eoq+q5D79Xzpx5+aVr81I+3ukppf84lA2oK+q5HfPpv0+NTb5Zj5ox3+fXX7HDe3PQN9wdjWJE3X5b4AznrHLYK3L9iLe7e87gWNrld9Nyd17tJd9uA/KDpfPzc3DcNN23L35fRlmzscqvbDbwspFa/O1D6sL3HDdZab05Ke644JAIwHU/RTiPYzcMGZ16LpP6jxeoHpOxONbnkzF1rZ19t7bVyp3oWs3/+sLmriBOfjiw4snZz0nEF/zLoeU6ZM+m5YCbatnXfkhdl4NWH3QwAXowIeQASAccI+wxHrbUFuateeEqZV5Mt3FyZ+620c6iJDB+l37ZZHJkogrVO6drb63rQDAOMbwTSSs3mMqVvbwa64QQGQSf7Bl5t2M572UScNJ78UlFyG9m43FxmxHxQfB8yDxTKRgn8AFzvSPIDxgDSPRHRurnklYinSIwAAiIFgGgAAAEiINA8AAAAgIYJpAAAAICGCaQAAACAhgmkAAAAgIYJpAAAAICGCaQAAACARkf8PF36joMJAs0MAAAAASUVORK5CYII=)"
      ],
      "metadata": {
        "id": "F1U2CkbhnBtu"
      },
      "id": "F1U2CkbhnBtu"
    },
    {
      "cell_type": "markdown",
      "source": [
        "![image.png](data:image/png;base64,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)"
      ],
      "metadata": {
        "id": "A56r7OEQoq3W"
      },
      "id": "A56r7OEQoq3W"
    },
    {
      "cell_type": "markdown",
      "source": [
        "![image.png](data:image/png;base64,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)"
      ],
      "metadata": {
        "id": "V4J9IWahoZFn"
      },
      "id": "V4J9IWahoZFn"
    },
    {
      "cell_type": "markdown",
      "source": [
        "![image.png](data:image/png;base64,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)"
      ],
      "metadata": {
        "id": "dh4BoHZEqF9e"
      },
      "id": "dh4BoHZEqF9e"
    },
    {
      "cell_type": "markdown",
      "source": [
        "![image.png](data:image/png;base64,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)"
      ],
      "metadata": {
        "id": "95fJm5ttp373"
      },
      "id": "95fJm5ttp373"
    }
  ],
  "metadata": {
    "kernelspec": {
      "display_name": "Python 3 (ipykernel)",
      "language": "python",
      "name": "python3"
    },
    "language_info": {
      "codemirror_mode": {
        "name": "ipython",
        "version": 3
      },
      "file_extension": ".py",
      "mimetype": "text/x-python",
      "name": "python",
      "nbconvert_exporter": "python",
      "pygments_lexer": "ipython3",
      "version": "3.10.4"
    },
    "toc": {
      "base_numbering": 1,
      "nav_menu": {},
      "number_sections": true,
      "sideBar": true,
      "skip_h1_title": false,
      "title_cell": "Table of Contents",
      "title_sidebar": "Contents",
      "toc_cell": false,
      "toc_position": {},
      "toc_section_display": true,
      "toc_window_display": false
    },
    "colab": {
      "provenance": []
    },
    "widgets": {
      "application/vnd.jupyter.widget-state+json": {
        "83f3ac148e7047b29e94c44264cd724a": {
          "model_module": "@jupyter-widgets/controls",
          "model_name": "HBoxModel",
          "model_module_version": "1.5.0",
          "state": {
            "_dom_classes": [],
            "_model_module": "@jupyter-widgets/controls",
            "_model_module_version": "1.5.0",
            "_model_name": "HBoxModel",
            "_view_count": null,
            "_view_module": "@jupyter-widgets/controls",
            "_view_module_version": "1.5.0",
            "_view_name": "HBoxView",
            "box_style": "",
            "children": [
              "IPY_MODEL_1bb31e5d5c254ba4bfe0bad58b236e26",
              "IPY_MODEL_cee8e118f7b04f9d923d4c73fba4aacb",
              "IPY_MODEL_15fffbd4803440c09853e157b9859267"
            ],
            "layout": "IPY_MODEL_980b4283c39441d28acfdbaa49e881bb"
          }
        },
        "1bb31e5d5c254ba4bfe0bad58b236e26": {
          "model_module": "@jupyter-widgets/controls",
          "model_name": "HTMLModel",
          "model_module_version": "1.5.0",
          "state": {
            "_dom_classes": [],
            "_model_module": "@jupyter-widgets/controls",
            "_model_module_version": "1.5.0",
            "_model_name": "HTMLModel",
            "_view_count": null,
            "_view_module": "@jupyter-widgets/controls",
            "_view_module_version": "1.5.0",
            "_view_name": "HTMLView",
            "description": "",
            "description_tooltip": null,
            "layout": "IPY_MODEL_ba94c0631eb24a249c8049cefadb6ed8",
            "placeholder": "​",
            "style": "IPY_MODEL_21e3e2faa2694cb08e0b763b0688eaa3",
            "value": "Done! Use &#x27;show&#x27; commands to display/save.   "
          }
        },
        "cee8e118f7b04f9d923d4c73fba4aacb": {
          "model_module": "@jupyter-widgets/controls",
          "model_name": "FloatProgressModel",
          "model_module_version": "1.5.0",
          "state": {
            "_dom_classes": [],
            "_model_module": "@jupyter-widgets/controls",
            "_model_module_version": "1.5.0",
            "_model_name": "FloatProgressModel",
            "_view_count": null,
            "_view_module": "@jupyter-widgets/controls",
            "_view_module_version": "1.5.0",
            "_view_name": "ProgressView",
            "bar_style": "success",
            "description": "",
            "description_tooltip": null,
            "layout": "IPY_MODEL_b6053058b530499ba2c98ca5b514be8c",
            "max": 1,
            "min": 0,
            "orientation": "horizontal",
            "style": "IPY_MODEL_c2df48e4302d4b5ab3269d710d6a0076",
            "value": 1
          }
        },
        "15fffbd4803440c09853e157b9859267": {
          "model_module": "@jupyter-widgets/controls",
          "model_name": "HTMLModel",
          "model_module_version": "1.5.0",
          "state": {
            "_dom_classes": [],
            "_model_module": "@jupyter-widgets/controls",
            "_model_module_version": "1.5.0",
            "_model_name": "HTMLModel",
            "_view_count": null,
            "_view_module": "@jupyter-widgets/controls",
            "_view_module_version": "1.5.0",
            "_view_name": "HTMLView",
            "description": "",
            "description_tooltip": null,
            "layout": "IPY_MODEL_b81cb52ce9c9426c9827f60508865fcd",
            "placeholder": "​",
            "style": "IPY_MODEL_ba836ca7272844d3b4db432e87a57167",
            "value": " [100%]   00:01 -&gt; (00:00 left)"
          }
        },
        "980b4283c39441d28acfdbaa49e881bb": {
          "model_module": "@jupyter-widgets/base",
          "model_name": "LayoutModel",
          "model_module_version": "1.2.0",
          "state": {
            "_model_module": "@jupyter-widgets/base",
            "_model_module_version": "1.2.0",
            "_model_name": "LayoutModel",
            "_view_count": null,
            "_view_module": "@jupyter-widgets/base",
            "_view_module_version": "1.2.0",
            "_view_name": "LayoutView",
            "align_content": null,
            "align_items": null,
            "align_self": null,
            "border": null,
            "bottom": null,
            "display": "inline-flex",
            "flex": null,
            "flex_flow": "row wrap",
            "grid_area": null,
            "grid_auto_columns": null,
            "grid_auto_flow": null,
            "grid_auto_rows": null,
            "grid_column": null,
            "grid_gap": null,
            "grid_row": null,
            "grid_template_areas": null,
            "grid_template_columns": null,
            "grid_template_rows": null,
            "height": null,
            "justify_content": null,
            "justify_items": null,
            "left": null,
            "margin": null,
            "max_height": null,
            "max_width": null,
            "min_height": null,
            "min_width": null,
            "object_fit": null,
            "object_position": null,
            "order": null,
            "overflow": null,
            "overflow_x": null,
            "overflow_y": null,
            "padding": null,
            "right": null,
            "top": null,
            "visibility": null,
            "width": "100%"
          }
        },
        "ba94c0631eb24a249c8049cefadb6ed8": {
          "model_module": "@jupyter-widgets/base",
          "model_name": "LayoutModel",
          "model_module_version": "1.2.0",
          "state": {
            "_model_module": "@jupyter-widgets/base",
            "_model_module_version": "1.2.0",
            "_model_name": "LayoutModel",
            "_view_count": null,
            "_view_module": "@jupyter-widgets/base",
            "_view_module_version": "1.2.0",
            "_view_name": "LayoutView",
            "align_content": null,
            "align_items": null,
            "align_self": null,
            "border": null,
            "bottom": null,
            "display": null,
            "flex": null,
            "flex_flow": null,
            "grid_area": null,
            "grid_auto_columns": null,
            "grid_auto_flow": null,
            "grid_auto_rows": null,
            "grid_column": null,
            "grid_gap": null,
            "grid_row": null,
            "grid_template_areas": null,
            "grid_template_columns": null,
            "grid_template_rows": null,
            "height": null,
            "justify_content": null,
            "justify_items": null,
            "left": null,
            "margin": null,
            "max_height": null,
            "max_width": null,
            "min_height": null,
            "min_width": null,
            "object_fit": null,
            "object_position": null,
            "order": null,
            "overflow": null,
            "overflow_x": null,
            "overflow_y": null,
            "padding": null,
            "right": null,
            "top": null,
            "visibility": null,
            "width": null
          }
        },
        "21e3e2faa2694cb08e0b763b0688eaa3": {
          "model_module": "@jupyter-widgets/controls",
          "model_name": "DescriptionStyleModel",
          "model_module_version": "1.5.0",
          "state": {
            "_model_module": "@jupyter-widgets/controls",
            "_model_module_version": "1.5.0",
            "_model_name": "DescriptionStyleModel",
            "_view_count": null,
            "_view_module": "@jupyter-widgets/base",
            "_view_module_version": "1.2.0",
            "_view_name": "StyleView",
            "description_width": ""
          }
        },
        "b6053058b530499ba2c98ca5b514be8c": {
          "model_module": "@jupyter-widgets/base",
          "model_name": "LayoutModel",
          "model_module_version": "1.2.0",
          "state": {
            "_model_module": "@jupyter-widgets/base",
            "_model_module_version": "1.2.0",
            "_model_name": "LayoutModel",
            "_view_count": null,
            "_view_module": "@jupyter-widgets/base",
            "_view_module_version": "1.2.0",
            "_view_name": "LayoutView",
            "align_content": null,
            "align_items": null,
            "align_self": null,
            "border": null,
            "bottom": null,
            "display": null,
            "flex": "2",
            "flex_flow": null,
            "grid_area": null,
            "grid_auto_columns": null,
            "grid_auto_flow": null,
            "grid_auto_rows": null,
            "grid_column": null,
            "grid_gap": null,
            "grid_row": null,
            "grid_template_areas": null,
            "grid_template_columns": null,
            "grid_template_rows": null,
            "height": null,
            "justify_content": null,
            "justify_items": null,
            "left": null,
            "margin": null,
            "max_height": null,
            "max_width": null,
            "min_height": null,
            "min_width": null,
            "object_fit": null,
            "object_position": null,
            "order": null,
            "overflow": null,
            "overflow_x": null,
            "overflow_y": null,
            "padding": null,
            "right": null,
            "top": null,
            "visibility": null,
            "width": null
          }
        },
        "c2df48e4302d4b5ab3269d710d6a0076": {
          "model_module": "@jupyter-widgets/controls",
          "model_name": "ProgressStyleModel",
          "model_module_version": "1.5.0",
          "state": {
            "_model_module": "@jupyter-widgets/controls",
            "_model_module_version": "1.5.0",
            "_model_name": "ProgressStyleModel",
            "_view_count": null,
            "_view_module": "@jupyter-widgets/base",
            "_view_module_version": "1.2.0",
            "_view_name": "StyleView",
            "bar_color": null,
            "description_width": ""
          }
        },
        "b81cb52ce9c9426c9827f60508865fcd": {
          "model_module": "@jupyter-widgets/base",
          "model_name": "LayoutModel",
          "model_module_version": "1.2.0",
          "state": {
            "_model_module": "@jupyter-widgets/base",
            "_model_module_version": "1.2.0",
            "_model_name": "LayoutModel",
            "_view_count": null,
            "_view_module": "@jupyter-widgets/base",
            "_view_module_version": "1.2.0",
            "_view_name": "LayoutView",
            "align_content": null,
            "align_items": null,
            "align_self": null,
            "border": null,
            "bottom": null,
            "display": null,
            "flex": null,
            "flex_flow": null,
            "grid_area": null,
            "grid_auto_columns": null,
            "grid_auto_flow": null,
            "grid_auto_rows": null,
            "grid_column": null,
            "grid_gap": null,
            "grid_row": null,
            "grid_template_areas": null,
            "grid_template_columns": null,
            "grid_template_rows": null,
            "height": null,
            "justify_content": null,
            "justify_items": null,
            "left": null,
            "margin": null,
            "max_height": null,
            "max_width": null,
            "min_height": null,
            "min_width": null,
            "object_fit": null,
            "object_position": null,
            "order": null,
            "overflow": null,
            "overflow_x": null,
            "overflow_y": null,
            "padding": null,
            "right": null,
            "top": null,
            "visibility": null,
            "width": null
          }
        },
        "ba836ca7272844d3b4db432e87a57167": {
          "model_module": "@jupyter-widgets/controls",
          "model_name": "DescriptionStyleModel",
          "model_module_version": "1.5.0",
          "state": {
            "_model_module": "@jupyter-widgets/controls",
            "_model_module_version": "1.5.0",
            "_model_name": "DescriptionStyleModel",
            "_view_count": null,
            "_view_module": "@jupyter-widgets/base",
            "_view_module_version": "1.2.0",
            "_view_name": "StyleView",
            "description_width": ""
          }
        }
      }
    }
  },
  "nbformat": 4,
  "nbformat_minor": 5
}