{
  "nbformat": 4,
  "nbformat_minor": 0,
  "metadata": {
    "colab": {
      "provenance": []
    },
    "kernelspec": {
      "name": "python3",
      "display_name": "Python 3"
    },
    "language_info": {
      "name": "python"
    }
  },
  "cells": [
    {
      "cell_type": "markdown",
      "source": [
        "В цьому домашньому завданні відпрацюємо з вами знання, отримані в модулі зі статистики.\n",
        "\n",
        "**Завдання 1.** Ми обговорили з Вами на лекції, що велика літера Сігма грецького алфавіту позначає в математиці суму. Знайдіть з використанням Python $\\Sigma x$, $\\Sigma x^2$, та $\\Sigma (x-1)^2$ для наступного набору даних:\n",
        "`1 3 4`\n",
        "Виведіть результат кожного обчислення на екран."
      ],
      "metadata": {
        "id": "SDhaTqxcWhnP"
      }
    },
    {
      "cell_type": "code",
      "source": [
        "import numpy as np"
      ],
      "metadata": {
        "id": "B1mgx_IBT0e8"
      },
      "execution_count": 11,
      "outputs": []
    },
    {
      "cell_type": "code",
      "source": [
        "x = [1,3,4]"
      ],
      "metadata": {
        "id": "iZGIqOaOswZ0"
      },
      "execution_count": 85,
      "outputs": []
    },
    {
      "cell_type": "code",
      "source": [
        "sum_x = sum(x)\n",
        "sum_x\n"
      ],
      "metadata": {
        "colab": {
          "base_uri": "https://localhost:8080/"
        },
        "id": "AlqMtUsxs3BS",
        "outputId": "782673a8-c9ea-4ab2-b922-303723924818"
      },
      "execution_count": 20,
      "outputs": [
        {
          "output_type": "execute_result",
          "data": {
            "text/plain": [
              "8"
            ]
          },
          "metadata": {},
          "execution_count": 20
        }
      ]
    },
    {
      "cell_type": "code",
      "source": [
        "result_1 = sum([i **2 for i in x])\n",
        "result_1"
      ],
      "metadata": {
        "colab": {
          "base_uri": "https://localhost:8080/"
        },
        "id": "KYmkX4VEtnlb",
        "outputId": "c7d2831f-1598-4ee7-9ff2-b22abb9598ae"
      },
      "execution_count": 87,
      "outputs": [
        {
          "output_type": "execute_result",
          "data": {
            "text/plain": [
              "26"
            ]
          },
          "metadata": {},
          "execution_count": 87
        }
      ]
    },
    {
      "cell_type": "code",
      "source": [
        "result_2 = sum([(i-1) **2 for i in x])\n",
        "result_2"
      ],
      "metadata": {
        "colab": {
          "base_uri": "https://localhost:8080/"
        },
        "id": "CrlH0cO2txvK",
        "outputId": "68470243-2eb5-4c58-8bd8-e0ca1d460ff6"
      },
      "execution_count": 88,
      "outputs": [
        {
          "output_type": "execute_result",
          "data": {
            "text/plain": [
              "13"
            ]
          },
          "metadata": {},
          "execution_count": 88
        }
      ]
    },
    {
      "cell_type": "markdown",
      "source": [
        "**Завдання 2.** Ми зібрали дані про суму покупок в гривнях 20ма випадково обраними клієнтами в нашому магазині (всього клієнтів у нас більше) за минулий місяць. Вони представлені в змінній `sum_purchases`. Знайдіть **вибіркове середнє** для цих даних кожним з зазначених методів:   \n",
        "\n",
        "  2.1. без використання жодних бібліотек, користуючись тільки Python.  \n",
        "  2.2. використовуючи відповідний метод бібліотеки `numpy`.\n",
        "\n",
        "  Виведіть результат обчислень в кожному з випадків на екран та порівняйте результати. Вони співпадають?"
      ],
      "metadata": {
        "id": "fa78aW5lhiia"
      }
    },
    {
      "cell_type": "code",
      "execution_count": 34,
      "metadata": {
        "id": "_9kMt3rq6V5m"
      },
      "outputs": [],
      "source": [
        "sum_purchases = [ 316,  493,  367,  153,  224,  121,  322,  450,  196,  397,  281,\n",
        "  239,  484,  124,  223,  448,  432,  255, 4310, 3524]"
      ]
    },
    {
      "cell_type": "code",
      "source": [
        "mean_purchases = sum(sum_purchases)/len(sum_purchases)\n",
        "mean_purchases"
      ],
      "metadata": {
        "colab": {
          "base_uri": "https://localhost:8080/"
        },
        "id": "8O74DsgS0JEb",
        "outputId": "182d62b4-5e88-49c4-d2fd-b2e1ab0c5ad6"
      },
      "execution_count": 35,
      "outputs": [
        {
          "output_type": "execute_result",
          "data": {
            "text/plain": [
              "667.95"
            ]
          },
          "metadata": {},
          "execution_count": 35
        }
      ]
    },
    {
      "cell_type": "code",
      "source": [
        "np.mean(sum_purchases)"
      ],
      "metadata": {
        "colab": {
          "base_uri": "https://localhost:8080/"
        },
        "id": "ObuDC0YU0ZZz",
        "outputId": "b16d41fb-29ea-4a46-9faf-e78473fafc92"
      },
      "execution_count": 36,
      "outputs": [
        {
          "output_type": "execute_result",
          "data": {
            "text/plain": [
              "667.95"
            ]
          },
          "metadata": {},
          "execution_count": 36
        }
      ]
    },
    {
      "cell_type": "markdown",
      "source": [
        "**Як видно з обчислень результати без використання жодних бібліотек співпадають з результатами обислень з використанням бібліотеки numpy.**"
      ],
      "metadata": {
        "id": "Ri5g1ekB0n3M"
      }
    },
    {
      "cell_type": "markdown",
      "source": [
        "**Завдання 3.** Для того ж набору даних в змінній `sum_purchases` обчисліть **медіану** кожним з зазначених методів:  \n",
        "\n",
        "  3.1. без використання жодних бібліотек, користуючись тільки Python.  \n",
        "  3.2. використовуючи відповідний метод бібліотеки numpy.  \n",
        "\n",
        "Виведіть результат обчислень в кожному з випадків на екран. Порівняйте результати зі значенням вибіркового середнього. Напишіть коментар, для яких задач ви б використовували вибіркове середнє, а для яких - медіану?"
      ],
      "metadata": {
        "id": "FMdoxZd0kZdW"
      }
    },
    {
      "cell_type": "code",
      "source": [
        "print(sorted(sum_purchases))"
      ],
      "metadata": {
        "id": "x58BumvuT2nl",
        "colab": {
          "base_uri": "https://localhost:8080/"
        },
        "outputId": "2848472d-7c2c-4587-a769-a6fdf580db56"
      },
      "execution_count": 5,
      "outputs": [
        {
          "output_type": "stream",
          "name": "stdout",
          "text": [
            "[121, 124, 153, 196, 223, 224, 239, 255, 281, 316, 322, 367, 397, 432, 448, 450, 484, 493, 3524, 4310]\n"
          ]
        }
      ]
    },
    {
      "cell_type": "code",
      "source": [
        "len(sum_purchases)//2-1"
      ],
      "metadata": {
        "colab": {
          "base_uri": "https://localhost:8080/"
        },
        "id": "edJVSMAH2HG9",
        "outputId": "7669d067-d039-4b42-dd89-77cdda5afe92"
      },
      "execution_count": 30,
      "outputs": [
        {
          "output_type": "execute_result",
          "data": {
            "text/plain": [
              "9"
            ]
          },
          "metadata": {},
          "execution_count": 30
        }
      ]
    },
    {
      "cell_type": "code",
      "source": [
        "median_sum_purchases = (sorted(sum_purchases)[len(sum_purchases)//2-1] + sorted(sum_purchases)[len(sum_purchases)//2]) / 2\n",
        "median_sum_purchases"
      ],
      "metadata": {
        "colab": {
          "base_uri": "https://localhost:8080/"
        },
        "id": "FHhEInBR5fhs",
        "outputId": "ebe021d5-efb8-40f8-ad51-d1ee88e6bc47"
      },
      "execution_count": 6,
      "outputs": [
        {
          "output_type": "execute_result",
          "data": {
            "text/plain": [
              "319.0"
            ]
          },
          "metadata": {},
          "execution_count": 6
        }
      ]
    },
    {
      "cell_type": "code",
      "source": [
        "np.median(sum_purchases)"
      ],
      "metadata": {
        "colab": {
          "base_uri": "https://localhost:8080/"
        },
        "id": "4tyrWWkx6cT0",
        "outputId": "f1d4cec2-f3e0-47d4-b447-97fc844565fe"
      },
      "execution_count": 10,
      "outputs": [
        {
          "output_type": "execute_result",
          "data": {
            "text/plain": [
              "319.0"
            ]
          },
          "metadata": {},
          "execution_count": 10
        }
      ]
    },
    {
      "cell_type": "code",
      "source": [
        "import statistics"
      ],
      "metadata": {
        "id": "SGCIiyEIkCvH"
      },
      "execution_count": 7,
      "outputs": []
    },
    {
      "cell_type": "code",
      "source": [
        "median = statistics.median(sum_purchases) #Альтернативний метод\n",
        "median"
      ],
      "metadata": {
        "colab": {
          "base_uri": "https://localhost:8080/"
        },
        "id": "jpzgZxbxkJiH",
        "outputId": "1464f51c-d2e1-4551-edc1-e2e2c54b4513"
      },
      "execution_count": 12,
      "outputs": [
        {
          "output_type": "execute_result",
          "data": {
            "text/plain": [
              "319.0"
            ]
          },
          "metadata": {},
          "execution_count": 12
        }
      ]
    },
    {
      "cell_type": "markdown",
      "source": [
        "Перш за все вибір між середнім та медіаною залежить від специфіки даних та цілей аналізу. **Також головним э те що медіана не чутлива до викидів на відміну від вибіркового середнього**.   \n",
        "\n",
        "**Медіану можна використати для:**\n",
        " 1. Визначення середнього часу вирішення завдання, коли деякі завдання займають надто багато часу через непередбачувані фактори.\n",
        " 2. Аналіз доходів фірми, коли є кілька дуже високих доходів протягом пвного періоду чау, що можуть вплинути на середнє.\n",
        " 3. Оцінка вартості проїзду на таксі регіоні, де є значні розбіжності в цінах у операторів.\n",
        "\n",
        "**Середнє можна використати для:**\n",
        " 1. Визначення середнього півня споживання енегії в будівлі, що допомагає в плануванні енергетини витрат та їх оптимізації\n",
        " 2. Оцінка середнього рівня продуктивності працівників - це дозволить визначити загальну ефективність роботи колективу.\n",
        " 3. Визначити середню т-ру за міс/рік в певному регіоні."
      ],
      "metadata": {
        "id": "oMmE5eX46yY0"
      }
    },
    {
      "cell_type": "markdown",
      "source": [
        "**Завдання 4**. Обчислість стандартне відхилення наведеної вибірки в змінній `sum_purchases` кожним з зазначених методів:  \n",
        "\n",
        "  4.1. без використання жодних бібліотек, користуючись тільки Python.  \n",
        "  4.2. використовуючи відповідний метод бібліотеки numpy.  \n",
        "\n",
        "Виведіть результат обчислень в кожному з випадків на екран."
      ],
      "metadata": {
        "id": "o1Z7az2yNDQV"
      }
    },
    {
      "cell_type": "code",
      "source": [
        "deviations_purchases  = [(el - mean_purchases) ** 2 for el in sum_purchases]\n",
        "deviations_purchases\n"
      ],
      "metadata": {
        "id": "X4ixtmL2T642",
        "colab": {
          "base_uri": "https://localhost:8080/"
        },
        "outputId": "f48ba0bc-73d9-4b6b-f2dd-b61e0406c99f"
      },
      "execution_count": 43,
      "outputs": [
        {
          "output_type": "execute_result",
          "data": {
            "text/plain": [
              "[123868.80250000003,\n",
              " 30607.502500000017,\n",
              " 90570.90250000003,\n",
              " 265173.50250000006,\n",
              " 197091.60250000004,\n",
              " 299154.30250000005,\n",
              " 119681.40250000003,\n",
              " 47502.20250000002,\n",
              " 222736.80250000005,\n",
              " 73413.90250000003,\n",
              " 149730.30250000005,\n",
              " 183998.10250000004,\n",
              " 33837.602500000015,\n",
              " 295881.60250000004,\n",
              " 197980.50250000003,\n",
              " 48378.00250000002,\n",
              " 55672.40250000002,\n",
              " 170527.70250000004,\n",
              " 13264528.2025,\n",
              " 8157021.602500001]"
            ]
          },
          "metadata": {},
          "execution_count": 43
        }
      ]
    },
    {
      "cell_type": "code",
      "source": [
        "variation_purchase = sum(deviations_purchases) / (len(sum_purchases)-1)\n",
        "variation_purchase"
      ],
      "metadata": {
        "colab": {
          "base_uri": "https://localhost:8080/"
        },
        "id": "JexukydQcF4u",
        "outputId": "122feb7d-5cb7-4de9-bb90-62cba205ce32"
      },
      "execution_count": 44,
      "outputs": [
        {
          "output_type": "execute_result",
          "data": {
            "text/plain": [
              "1264597.7342105266"
            ]
          },
          "metadata": {},
          "execution_count": 44
        }
      ]
    },
    {
      "cell_type": "code",
      "source": [
        "np.var(sum_purchases, ddof=1)"
      ],
      "metadata": {
        "colab": {
          "base_uri": "https://localhost:8080/"
        },
        "id": "2WFNftl-u1MR",
        "outputId": "9a00ceec-6d51-447e-be37-962d4a6e914f"
      },
      "execution_count": 45,
      "outputs": [
        {
          "output_type": "execute_result",
          "data": {
            "text/plain": [
              "1264597.7342105266"
            ]
          },
          "metadata": {},
          "execution_count": 45
        }
      ]
    },
    {
      "cell_type": "code",
      "source": [
        "std_dev_purchases = ((variation_purchase)) ** 0.5# На чистому Python\n",
        "std_dev_purchases"
      ],
      "metadata": {
        "colab": {
          "base_uri": "https://localhost:8080/"
        },
        "id": "-_pMC4DphdGw",
        "outputId": "8fb549c7-2f82-40a6-f4e5-238dab927cb1"
      },
      "execution_count": 46,
      "outputs": [
        {
          "output_type": "execute_result",
          "data": {
            "text/plain": [
              "1124.5433447451132"
            ]
          },
          "metadata": {},
          "execution_count": 46
        }
      ]
    },
    {
      "cell_type": "code",
      "source": [
        "std_dev_purchases = (sum((p - mean_purchases) ** 2 for p in sum_purchases) / (len(sum_purchases) - 1)) ** 0.5\n",
        "std_dev_purchases"
      ],
      "metadata": {
        "colab": {
          "base_uri": "https://localhost:8080/"
        },
        "id": "mDEDVz0bd_8M",
        "outputId": "c75f89b4-60c3-4dc0-c8dc-e2f153286e6c"
      },
      "execution_count": 47,
      "outputs": [
        {
          "output_type": "execute_result",
          "data": {
            "text/plain": [
              "1124.5433447451132"
            ]
          },
          "metadata": {},
          "execution_count": 47
        }
      ]
    },
    {
      "cell_type": "code",
      "source": [
        "np.std(sum_purchases, ddof=1)#З використанням numpy"
      ],
      "metadata": {
        "colab": {
          "base_uri": "https://localhost:8080/"
        },
        "id": "hKEtrEovhxHp",
        "outputId": "340ff5e8-f2bb-4639-c244-22a075a006e9"
      },
      "execution_count": 112,
      "outputs": [
        {
          "output_type": "execute_result",
          "data": {
            "text/plain": [
              "1124.5433447451132"
            ]
          },
          "metadata": {},
          "execution_count": 112
        }
      ]
    },
    {
      "cell_type": "code",
      "source": [
        "purchases_deviation = statistics.stdev(sum_purchases)#Альтернативний метод\n",
        "purchases_deviation"
      ],
      "metadata": {
        "colab": {
          "base_uri": "https://localhost:8080/"
        },
        "id": "uGmc_FNukeO9",
        "outputId": "4ae00284-7861-4d1c-be96-ce6ca12a669c"
      },
      "execution_count": 113,
      "outputs": [
        {
          "output_type": "execute_result",
          "data": {
            "text/plain": [
              "1124.5430182967657"
            ]
          },
          "metadata": {},
          "execution_count": 113
        }
      ]
    },
    {
      "cell_type": "markdown",
      "source": [
        "**Завдання 5**. Ми провели дослідження віку студентів-першокурсників. Виявилось, що\n",
        "- 10 студентів мають вік 16 років\n",
        "- 25 студентів - 17 років\n",
        "- 20 студентів - 18 років\n",
        "- 2 студенти - 20 років\n",
        "\n",
        "Обчислість середнє значення для цієї вибірки будь-яким способом - на чистому Python або з numpy - та виведіть результат на екран."
      ],
      "metadata": {
        "id": "M1ntKTjXLVlH"
      }
    },
    {
      "cell_type": "code",
      "source": [
        "age_stds = {16: 10,\n",
        "            17: 25,\n",
        "            18: 20,\n",
        "            20: 2}\n",
        "\n",
        "average = (sum(age * count for age, count in age_stds.items())) / (sum(age_stds.values()))# Ділимо загальну кількість студентів на сумарну кількість років тих же студентів для отримання серенього значення\n",
        "print(f\"Середній вік студентів: {average:.1f} років\")"
      ],
      "metadata": {
        "id": "RdIU4M-7T8R4",
        "colab": {
          "base_uri": "https://localhost:8080/"
        },
        "outputId": "74dd7cb9-63b0-4744-e79d-06cbcf518037"
      },
      "execution_count": 67,
      "outputs": [
        {
          "output_type": "stream",
          "name": "stdout",
          "text": [
            "Середній вік студентів: 17.3 років\n"
          ]
        }
      ]
    },
    {
      "cell_type": "code",
      "source": [
        "#Альтернативний метод за допомогою numpy\n",
        "\n",
        "std_age = np.array([16, 17, 18, 20])\n",
        "years_amount = np.array([10, 25, 20, 2])\n",
        "\n",
        "average_stds_age = np.average(std_age, weights=years_amount)\n",
        "display(f'Середній вік студентів: {average_stds_age:.1f} років');"
      ],
      "metadata": {
        "colab": {
          "base_uri": "https://localhost:8080/",
          "height": 35
        },
        "id": "hW--7SCipjiw",
        "outputId": "1cbc936c-66a4-4f0b-9846-db5393e28418"
      },
      "execution_count": 77,
      "outputs": [
        {
          "output_type": "display_data",
          "data": {
            "text/plain": [
              "'Середній вік студентів: 17.3 років'"
            ],
            "application/vnd.google.colaboratory.intrinsic+json": {
              "type": "string"
            }
          },
          "metadata": {}
        }
      ]
    },
    {
      "cell_type": "markdown",
      "source": [
        "**Завдання 6**. Крім даних про суму покупок, ми зібрали ще дані про кількість відвідувань кожного з кожного покупця, які знаходяться в змінній `visits`. Обчисліть коефіцієнт кореляції Пірсона для суми покупок і кількості відвідувань кожним з зазначених методів:  \n",
        "\n",
        "  6.1. без використання жодних бібліотек, користуючись тільки Python.  \n",
        "  6.2. використовуючи відповідний метод бібліотеки numpy.  \n",
        "  \n",
        "Виведіть результат на екран. Проаналізуйте результат.\n",
        "\n",
        "Виведіть додатково графік розсіювання викликавши код нижче і зробіть заключення, чи варто щось змінити при підрахунку кореляції, аби коефіцієнт Пірсона показував коректну оцінку лінійної залежності?"
      ],
      "metadata": {
        "id": "Xx8MFkkVM53z"
      }
    },
    {
      "cell_type": "code",
      "source": [
        "visits = [ 6,  2, 10,  3,  9,  9,  2,  3,  6,  6, 10,  2,  5, 10,  3,  5,  4,\n",
        "        7,  4,  2]"
      ],
      "metadata": {
        "id": "4OIGBT7UOWhO"
      },
      "execution_count": 30,
      "outputs": []
    },
    {
      "cell_type": "code",
      "source": [
        "#mean_purchases = sum(sum_purchases)/len(sum_purchases)\n",
        "mean_visits = sum(visits) / len(visits) # # Середні значення visits\n",
        "mean_visits"
      ],
      "metadata": {
        "colab": {
          "base_uri": "https://localhost:8080/"
        },
        "id": "fqsU_9H_IIrD",
        "outputId": "af1e962e-eb66-444d-98d4-3cf4a9152df8"
      },
      "execution_count": 31,
      "outputs": [
        {
          "output_type": "execute_result",
          "data": {
            "text/plain": [
              "5.4"
            ]
          },
          "metadata": {},
          "execution_count": 31
        }
      ]
    },
    {
      "cell_type": "code",
      "source": [
        "#deviations_purchases  = [el - mean_purchases for el in sum_purchases]\n",
        "deviations_visits = [el - mean_visits for el in visits]# Відхилення від середнього\n",
        "deviations_visits"
      ],
      "metadata": {
        "colab": {
          "base_uri": "https://localhost:8080/"
        },
        "id": "BQG7ZL9tIMFD",
        "outputId": "8a5a2ae1-4b9c-4fad-f22c-5bee64ba149f"
      },
      "execution_count": 7,
      "outputs": [
        {
          "output_type": "execute_result",
          "data": {
            "text/plain": [
              "[0.5999999999999996,\n",
              " -3.4000000000000004,\n",
              " 4.6,\n",
              " -2.4000000000000004,\n",
              " 3.5999999999999996,\n",
              " 3.5999999999999996,\n",
              " -3.4000000000000004,\n",
              " -2.4000000000000004,\n",
              " 0.5999999999999996,\n",
              " 0.5999999999999996,\n",
              " 4.6,\n",
              " -3.4000000000000004,\n",
              " -0.40000000000000036,\n",
              " 4.6,\n",
              " -2.4000000000000004,\n",
              " -0.40000000000000036,\n",
              " -1.4000000000000004,\n",
              " 1.5999999999999996,\n",
              " -1.4000000000000004,\n",
              " -3.4000000000000004]"
            ]
          },
          "metadata": {},
          "execution_count": 7
        }
      ]
    },
    {
      "cell_type": "code",
      "source": [
        "sum_of_deviations = sum(dp * dv for dp, dv in zip(deviations_purchases, deviations_visits))# Сума добутків відхилень\n",
        "sum_of_deviations\n"
      ],
      "metadata": {
        "colab": {
          "base_uri": "https://localhost:8080/"
        },
        "id": "mJItJKVfIO1E",
        "outputId": "f5966ae4-40c1-42c2-cef6-40b1de1beec9"
      },
      "execution_count": 8,
      "outputs": [
        {
          "output_type": "execute_result",
          "data": {
            "text/plain": [
              "-18812.600000000002"
            ]
          },
          "metadata": {},
          "execution_count": 8
        }
      ]
    },
    {
      "cell_type": "code",
      "source": [
        "covariance = sum_of_deviations / (len(sum_purchases) - 1)# Ковариація\n",
        "covariance"
      ],
      "metadata": {
        "colab": {
          "base_uri": "https://localhost:8080/"
        },
        "id": "GYjbCoZrISRD",
        "outputId": "519eaea9-ef50-422b-bdf6-1a9da7f2e448"
      },
      "execution_count": 9,
      "outputs": [
        {
          "output_type": "execute_result",
          "data": {
            "text/plain": [
              "-990.1368421052633"
            ]
          },
          "metadata": {},
          "execution_count": 9
        }
      ]
    },
    {
      "cell_type": "code",
      "source": [
        "#std_dev_purchases = (sum((p - mean_purchases) ** 2 for p in sum_purchases) / (len(sum_purchases) - 1)) ** 0.5 #Cтандартне відхилення sum_purchases\n",
        "std_dev_visits = (((sum((v - mean_visits) ** 2 for v in visits) / (len(visits) - 1))))** 0.5# Cтандартне відхилення visits\n",
        "std_dev_visits\n"
      ],
      "metadata": {
        "id": "YLNF7VbeT97Q",
        "colab": {
          "base_uri": "https://localhost:8080/"
        },
        "outputId": "ae0feb81-8a7f-4004-ec2e-9cc130fe49b8"
      },
      "execution_count": 22,
      "outputs": [
        {
          "output_type": "execute_result",
          "data": {
            "text/plain": [
              "2.909150717088553"
            ]
          },
          "metadata": {},
          "execution_count": 22
        }
      ]
    },
    {
      "cell_type": "code",
      "source": [
        "# Коефіцієнт кореляції Пірсона Python\n",
        "\n",
        "pearson_correlation = covariance / (std_dev_purchases * std_dev_visits)\n",
        "print(f\"Кореляція Пірсона Pytohn: {pearson_correlation:.8f}\")"
      ],
      "metadata": {
        "colab": {
          "base_uri": "https://localhost:8080/"
        },
        "id": "GglantwHOwus",
        "outputId": "fbc3983a-c3f3-4c26-e559-c9d1c011b166"
      },
      "execution_count": 14,
      "outputs": [
        {
          "output_type": "stream",
          "name": "stdout",
          "text": [
            "Кореляція Пірсона Pytohn: -0.30265845\n"
          ]
        }
      ]
    },
    {
      "cell_type": "code",
      "source": [
        "# Коефіцієнт кореляції Пірсона numpy\n",
        "\n",
        "np.corrcoef(sum_purchases, visits)"
      ],
      "metadata": {
        "colab": {
          "base_uri": "https://localhost:8080/"
        },
        "id": "kS04JFtyQNcV",
        "outputId": "763938a6-9095-4702-dd47-efd9f7c2a3f1"
      },
      "execution_count": 38,
      "outputs": [
        {
          "output_type": "execute_result",
          "data": {
            "text/plain": [
              "array([[ 1.        , -0.30265845],\n",
              "       [-0.30265845,  1.        ]])"
            ]
          },
          "metadata": {},
          "execution_count": 38
        }
      ]
    },
    {
      "cell_type": "code",
      "source": [
        "import matplotlib.pyplot as plt\n",
        "\n",
        "plt.scatter(sum_purchases, visits)\n",
        "plt.title('Scatter Plot of Purchases vs. Visits')\n",
        "plt.xlabel('Sum of Purchases')\n",
        "plt.ylabel('Number of Visits');"
      ],
      "metadata": {
        "colab": {
          "base_uri": "https://localhost:8080/",
          "height": 472
        },
        "id": "gaeoGA-5Prr1",
        "outputId": "06e3654a-85fc-4dca-b557-6fd4b0609c12"
      },
      "execution_count": 60,
      "outputs": [
        {
          "output_type": "display_data",
          "data": {
            "text/plain": [
              "<Figure size 640x480 with 1 Axes>"
            ],
            "image/png": "[encoded data removed]"
          },
          "metadata": {}
        }
      ]
    },
    {
      "cell_type": "markdown",
      "source": [
        "**Стосовно того чи варто зось зроботи щоб покращити оцінку лінійної залежності - треба позбавитись вивидів шляхом їх фільтрації**"
      ],
      "metadata": {
        "id": "EyhrSyqEQ1r9"
      }
    },
    {
      "cell_type": "markdown",
      "source": [
        "**Завдання 7**. В попередньому завданні ми помітили, що викиди нам заважають отримати \"правдиве\" значення кореляції. Давайте вилучимо записи, які відповідають значенням з викидами в сумі покупок і обчисліть коеф. кореляції. Для цього поставте `threshold`, який дорінює середньому значенню + 2 стандартних вдіхилля суми покупок і всі значення, які більше за нього, будемо вважати викидами (є і інші правила для визначення викидів - з ним и познайомимось пізніше).\n",
        "\n",
        "Вилучіть значення з обох масивів і обчисліть коеф. кореляції Пірсона з допомогою `numpy` для кількості візитів і суми покупок без записів-викидів. Виведіть результат на екран, побудуйте діаграму розсіювання і проаналізуйте результат: що можемо сказати про залежність в даних?"
      ],
      "metadata": {
        "id": "4pEg0KzSQ6KA"
      }
    },
    {
      "cell_type": "code",
      "source": [
        "sum_purchases = np.array([316, 493, 367, 153, 224, 121, 322, 450, 196, 397, 281,\n",
        "                          239, 484, 124, 223, 448, 432, 255, 4310, 3524])\n",
        "visits = np.array([6, 2, 10, 3, 9, 9, 2, 3, 6, 6, 10, 2, 5, 10, 3, 5, 4, 7, 4, 2])"
      ],
      "metadata": {
        "id": "1z_sN1U7knsb"
      },
      "execution_count": 53,
      "outputs": []
    },
    {
      "cell_type": "code",
      "source": [
        "mean_purchases = np.mean(sum_purchases) # Середнє значення\n",
        "std_dev_purchases = np.std(sum_purchases) # Cтандартне відхилення для sum_purchases\n"
      ],
      "metadata": {
        "id": "XOT2aY0OLtgL"
      },
      "execution_count": 54,
      "outputs": []
    },
    {
      "cell_type": "code",
      "source": [
        "threshold = mean_purchases + 2 * std_dev_purchases # Межа для видалення викидів\n"
      ],
      "metadata": {
        "id": "b63-wYKULrfD"
      },
      "execution_count": 55,
      "outputs": []
    },
    {
      "cell_type": "code",
      "source": [
        "indices_filter = sum_purchases <= threshold # Створення фільтру для видалення викдів"
      ],
      "metadata": {
        "id": "JUqPM-ImLzC0"
      },
      "execution_count": 56,
      "outputs": []
    },
    {
      "cell_type": "code",
      "source": [
        "#Застоування фільтру для sum_purchases та visits\n",
        "\n",
        "purchases_filter = sum_purchases[indices_filter]\n",
        "visits_filter = visits[indices_filter]"
      ],
      "metadata": {
        "id": "47WncTFUOWS1"
      },
      "execution_count": 57,
      "outputs": []
    },
    {
      "cell_type": "code",
      "source": [
        "pearson_correlation = np.corrcoef(purchases_filter, visits_filter)[0, 1]\n",
        "print(f\"Кореляція Пірсона після застосування фільтра: {pearson_correlation:.5f}\")\n"
      ],
      "metadata": {
        "colab": {
          "base_uri": "https://localhost:8080/"
        },
        "id": "FGPxekA-OiYt",
        "outputId": "6880a210-e689-4335-a3d2-a1bf07dbbdc0"
      },
      "execution_count": 58,
      "outputs": [
        {
          "output_type": "stream",
          "name": "stdout",
          "text": [
            "Кореляція Пірсона після застосування фільтра: -0.36852\n"
          ]
        }
      ]
    },
    {
      "cell_type": "code",
      "source": [
        "plt.scatter(purchases_filter, visits_filter)\n",
        "plt.title('Scatter Plot of Purchases vs. Visits without indices')\n",
        "plt.xlabel('Sum of Purchases filtered')\n",
        "plt.ylabel('Number of Visits filtered');"
      ],
      "metadata": {
        "colab": {
          "base_uri": "https://localhost:8080/",
          "height": 472
        },
        "id": "TOOnmVAWP6kM",
        "outputId": "77d4f8e9-e610-435d-ec5d-efea973e532a"
      },
      "execution_count": 61,
      "outputs": [
        {
          "output_type": "display_data",
          "data": {
            "text/plain": [
              "<Figure size 640x480 with 1 Axes>"
            ],
            "image/png": "[encoded data removed]"
          },
          "metadata": {}
        }
      ]
    },
    {
      "cell_type": "markdown",
      "source": [
        "Роблячи висновок можна скзати що після видалення викидів значення кореляції Пірсона залишається низьким, та на лінійній діаграмі точки розташовані хаотично, що є показником слабкої(відсутньої) лінійної залежності між сумою покупок і кількістю візитів навіть при врахуванні видалення викидів.  "
      ],
      "metadata": {
        "id": "KlwMF2baRy6w"
      }
    }
  ]
}